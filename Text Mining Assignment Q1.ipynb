{
 "cells": [
  {
   "cell_type": "markdown",
   "metadata": {},
   "source": [
    "## Text Mining Assignment Q1"
   ]
  },
  {
   "cell_type": "markdown",
   "metadata": {},
   "source": [
    "#### 1) Perform sentimental analysis on the Elon-musk tweets (Exlon-musk.csv)"
   ]
  },
  {
   "cell_type": "code",
   "execution_count": 1,
   "metadata": {
    "ExecuteTime": {
     "end_time": "2022-02-20T17:25:23.912058Z",
     "start_time": "2022-02-20T17:25:12.569311Z"
    }
   },
   "outputs": [],
   "source": [
    "import pandas as pd\n",
    "import string\n",
    "from nltk.corpus import stopwords\n",
    "from nltk.stem import PorterStemmer \n",
    "import nltk\n",
    "import spacy\n",
    "import seaborn as sns\n",
    "import matplotlib.pyplot as plt\n"
   ]
  },
  {
   "cell_type": "code",
   "execution_count": 2,
   "metadata": {
    "ExecuteTime": {
     "end_time": "2022-02-20T17:25:24.180495Z",
     "start_time": "2022-02-20T17:25:23.920303Z"
    }
   },
   "outputs": [
    {
     "data": {
      "text/html": [
       "<div>\n",
       "<style scoped>\n",
       "    .dataframe tbody tr th:only-of-type {\n",
       "        vertical-align: middle;\n",
       "    }\n",
       "\n",
       "    .dataframe tbody tr th {\n",
       "        vertical-align: top;\n",
       "    }\n",
       "\n",
       "    .dataframe thead th {\n",
       "        text-align: right;\n",
       "    }\n",
       "</style>\n",
       "<table border=\"1\" class=\"dataframe\">\n",
       "  <thead>\n",
       "    <tr style=\"text-align: right;\">\n",
       "      <th></th>\n",
       "      <th>Text</th>\n",
       "    </tr>\n",
       "  </thead>\n",
       "  <tbody>\n",
       "    <tr>\n",
       "      <td>1</td>\n",
       "      <td>@kunalb11 I’m an alien</td>\n",
       "    </tr>\n",
       "    <tr>\n",
       "      <td>2</td>\n",
       "      <td>@ID_AA_Carmack Ray tracing on Cyberpunk with H...</td>\n",
       "    </tr>\n",
       "    <tr>\n",
       "      <td>3</td>\n",
       "      <td>@joerogan @Spotify Great interview!</td>\n",
       "    </tr>\n",
       "    <tr>\n",
       "      <td>4</td>\n",
       "      <td>@gtera27 Doge is underestimated</td>\n",
       "    </tr>\n",
       "    <tr>\n",
       "      <td>5</td>\n",
       "      <td>@teslacn Congratulations Tesla China for amazi...</td>\n",
       "    </tr>\n",
       "    <tr>\n",
       "      <td>...</td>\n",
       "      <td>...</td>\n",
       "    </tr>\n",
       "    <tr>\n",
       "      <td>1995</td>\n",
       "      <td>@flcnhvy True, it sounds so surreal, but the n...</td>\n",
       "    </tr>\n",
       "    <tr>\n",
       "      <td>1996</td>\n",
       "      <td>@PPathole Make sure to read ur terms &amp;amp; con...</td>\n",
       "    </tr>\n",
       "    <tr>\n",
       "      <td>1997</td>\n",
       "      <td>@TeslaGong @PPathole Samwise Gamgee</td>\n",
       "    </tr>\n",
       "    <tr>\n",
       "      <td>1998</td>\n",
       "      <td>@PPathole Altho Dumb and Dumber is &lt;U+0001F525...</td>\n",
       "    </tr>\n",
       "    <tr>\n",
       "      <td>1999</td>\n",
       "      <td>Progress update August 28</td>\n",
       "    </tr>\n",
       "  </tbody>\n",
       "</table>\n",
       "<p>1999 rows × 1 columns</p>\n",
       "</div>"
      ],
      "text/plain": [
       "                                                   Text\n",
       "1                                @kunalb11 I’m an alien\n",
       "2     @ID_AA_Carmack Ray tracing on Cyberpunk with H...\n",
       "3                   @joerogan @Spotify Great interview!\n",
       "4                       @gtera27 Doge is underestimated\n",
       "5     @teslacn Congratulations Tesla China for amazi...\n",
       "...                                                 ...\n",
       "1995  @flcnhvy True, it sounds so surreal, but the n...\n",
       "1996  @PPathole Make sure to read ur terms &amp; con...\n",
       "1997                @TeslaGong @PPathole Samwise Gamgee\n",
       "1998  @PPathole Altho Dumb and Dumber is <U+0001F525...\n",
       "1999                          Progress update August 28\n",
       "\n",
       "[1999 rows x 1 columns]"
      ]
     },
     "execution_count": 2,
     "metadata": {},
     "output_type": "execute_result"
    }
   ],
   "source": [
    "# Read the data\n",
    "data = pd.read_csv('Elon_musk.csv',encoding='cp1252', error_bad_lines=False,index_col=0)\n",
    "data"
   ]
  },
  {
   "cell_type": "code",
   "execution_count": 3,
   "metadata": {
    "ExecuteTime": {
     "end_time": "2022-02-20T17:25:24.336804Z",
     "start_time": "2022-02-20T17:25:24.189490Z"
    }
   },
   "outputs": [],
   "source": [
    "#Removing the trailing and leading characters\n",
    "data['Text'] = data['Text'].str.strip()"
   ]
  },
  {
   "cell_type": "code",
   "execution_count": 4,
   "metadata": {
    "ExecuteTime": {
     "end_time": "2022-02-20T17:25:24.636428Z",
     "start_time": "2022-02-20T17:25:24.370782Z"
    }
   },
   "outputs": [
    {
     "data": {
      "text/html": [
       "<div>\n",
       "<style scoped>\n",
       "    .dataframe tbody tr th:only-of-type {\n",
       "        vertical-align: middle;\n",
       "    }\n",
       "\n",
       "    .dataframe tbody tr th {\n",
       "        vertical-align: top;\n",
       "    }\n",
       "\n",
       "    .dataframe thead th {\n",
       "        text-align: right;\n",
       "    }\n",
       "</style>\n",
       "<table border=\"1\" class=\"dataframe\">\n",
       "  <thead>\n",
       "    <tr style=\"text-align: right;\">\n",
       "      <th></th>\n",
       "      <th>Text</th>\n",
       "    </tr>\n",
       "  </thead>\n",
       "  <tbody>\n",
       "    <tr>\n",
       "      <td>1</td>\n",
       "      <td>@kunalb11 I’m an alien</td>\n",
       "    </tr>\n",
       "    <tr>\n",
       "      <td>2</td>\n",
       "      <td>@ID_AA_Carmack Ray tracing on Cyberpunk with H...</td>\n",
       "    </tr>\n",
       "    <tr>\n",
       "      <td>3</td>\n",
       "      <td>@joerogan @Spotify Great interview!</td>\n",
       "    </tr>\n",
       "    <tr>\n",
       "      <td>4</td>\n",
       "      <td>@gtera27 Doge is underestimated</td>\n",
       "    </tr>\n",
       "    <tr>\n",
       "      <td>5</td>\n",
       "      <td>@teslacn Congratulations Tesla China for amazi...</td>\n",
       "    </tr>\n",
       "    <tr>\n",
       "      <td>...</td>\n",
       "      <td>...</td>\n",
       "    </tr>\n",
       "    <tr>\n",
       "      <td>1995</td>\n",
       "      <td>@flcnhvy True, it sounds so surreal, but the n...</td>\n",
       "    </tr>\n",
       "    <tr>\n",
       "      <td>1996</td>\n",
       "      <td>@PPathole Make sure to read ur terms &amp;amp; con...</td>\n",
       "    </tr>\n",
       "    <tr>\n",
       "      <td>1997</td>\n",
       "      <td>@TeslaGong @PPathole Samwise Gamgee</td>\n",
       "    </tr>\n",
       "    <tr>\n",
       "      <td>1998</td>\n",
       "      <td>@PPathole Altho Dumb and Dumber is &lt;U+0001F525...</td>\n",
       "    </tr>\n",
       "    <tr>\n",
       "      <td>1999</td>\n",
       "      <td>Progress update August 28</td>\n",
       "    </tr>\n",
       "  </tbody>\n",
       "</table>\n",
       "<p>1999 rows × 1 columns</p>\n",
       "</div>"
      ],
      "text/plain": [
       "                                                   Text\n",
       "1                                @kunalb11 I’m an alien\n",
       "2     @ID_AA_Carmack Ray tracing on Cyberpunk with H...\n",
       "3                   @joerogan @Spotify Great interview!\n",
       "4                       @gtera27 Doge is underestimated\n",
       "5     @teslacn Congratulations Tesla China for amazi...\n",
       "...                                                 ...\n",
       "1995  @flcnhvy True, it sounds so surreal, but the n...\n",
       "1996  @PPathole Make sure to read ur terms &amp; con...\n",
       "1997                @TeslaGong @PPathole Samwise Gamgee\n",
       "1998  @PPathole Altho Dumb and Dumber is <U+0001F525...\n",
       "1999                          Progress update August 28\n",
       "\n",
       "[1999 rows x 1 columns]"
      ]
     },
     "execution_count": 4,
     "metadata": {},
     "output_type": "execute_result"
    }
   ],
   "source": [
    "# Removing the empty strings, because they are considered in Python as False\n",
    "data.dropna(subset=['Text'], inplace=True)\n",
    "data"
   ]
  },
  {
   "cell_type": "code",
   "execution_count": 5,
   "metadata": {
    "ExecuteTime": {
     "end_time": "2022-02-20T17:25:24.744511Z",
     "start_time": "2022-02-20T17:25:24.641421Z"
    }
   },
   "outputs": [],
   "source": [
    "# Stopwords"
   ]
  },
  {
   "cell_type": "code",
   "execution_count": 6,
   "metadata": {
    "ExecuteTime": {
     "end_time": "2022-02-20T17:25:25.557201Z",
     "start_time": "2022-02-20T17:25:24.749510Z"
    }
   },
   "outputs": [
    {
     "name": "stderr",
     "output_type": "stream",
     "text": [
      "[nltk_data] Downloading package stopwords to\n",
      "[nltk_data]     C:\\Users\\hp\\AppData\\Roaming\\nltk_data...\n",
      "[nltk_data]   Package stopwords is already up-to-date!\n"
     ]
    },
    {
     "data": {
      "text/plain": [
       "['i', 'me', 'my', 'myself', 'we', 'our', 'ours', 'ourselves', 'you', \"you're\"]"
      ]
     },
     "execution_count": 6,
     "metadata": {},
     "output_type": "execute_result"
    }
   ],
   "source": [
    "nltk.download('stopwords')\n",
    "my_stopwords = stopwords.words('english')\n",
    "my_stopwords[0:10]"
   ]
  },
  {
   "cell_type": "code",
   "execution_count": 7,
   "metadata": {
    "ExecuteTime": {
     "end_time": "2022-02-20T17:25:25.664469Z",
     "start_time": "2022-02-20T17:25:25.562198Z"
    }
   },
   "outputs": [
    {
     "data": {
      "text/plain": [
       "1                                     @kunalb11 I’m alien\n",
       "2       @ID_AA_Carmack Ray tracing Cyberpunk HDR next-...\n",
       "3                     @joerogan @Spotify Great interview!\n",
       "4                            @gtera27 Doge underestimated\n",
       "5       @teslacn Congratulations Tesla China amazing e...\n",
       "                              ...                        \n",
       "1995    @flcnhvy True, sounds surreal, negative propag...\n",
       "1996    @PPathole Make sure read ur terms &amp; condit...\n",
       "1997                  @TeslaGong @PPathole Samwise Gamgee\n",
       "1998    @PPathole Altho Dumb Dumber <U+0001F525><U+000...\n",
       "1999                            Progress update August 28\n",
       "Name: Text, Length: 1999, dtype: object"
      ]
     },
     "execution_count": 7,
     "metadata": {},
     "output_type": "execute_result"
    }
   ],
   "source": [
    "#removing stopwords\n",
    "data['Text'] = data['Text'].apply(lambda x: ' '.join([x for x in x.split() if x not in (my_stopwords)]))\n",
    "data['Text']"
   ]
  },
  {
   "cell_type": "code",
   "execution_count": 8,
   "metadata": {
    "ExecuteTime": {
     "end_time": "2022-02-20T17:25:25.976841Z",
     "start_time": "2022-02-20T17:25:25.673462Z"
    }
   },
   "outputs": [
    {
     "data": {
      "text/plain": [
       "1                                       kunalb11 Im alien\n",
       "2       ID_AA_Carmack Ray tracing Cyberpunk HDR nextle...\n",
       "3                        joerogan Spotify Great interview\n",
       "4                             gtera27 Doge underestimated\n",
       "5       teslacn Congratulations Tesla China amazing ex...\n",
       "                              ...                        \n",
       "1995    flcnhvy True sounds surreal negative propagand...\n",
       "1996    PPathole Make sure read ur terms amp condition...\n",
       "1997                    TeslaGong PPathole Samwise Gamgee\n",
       "1998        PPathole Altho Dumb Dumber U0001F525U0001F525\n",
       "1999                            Progress update August 28\n",
       "Name: Text, Length: 1999, dtype: object"
      ]
     },
     "execution_count": 8,
     "metadata": {},
     "output_type": "execute_result"
    }
   ],
   "source": [
    "#removing punctuations\n",
    "data['Text'] = data['Text'].str.replace(r'[^\\w\\s]+', '')\n",
    "data['Text'] "
   ]
  },
  {
   "cell_type": "code",
   "execution_count": 9,
   "metadata": {
    "ExecuteTime": {
     "end_time": "2022-02-20T17:25:26.101776Z",
     "start_time": "2022-02-20T17:25:25.986838Z"
    }
   },
   "outputs": [
    {
     "data": {
      "text/html": [
       "<div>\n",
       "<style scoped>\n",
       "    .dataframe tbody tr th:only-of-type {\n",
       "        vertical-align: middle;\n",
       "    }\n",
       "\n",
       "    .dataframe tbody tr th {\n",
       "        vertical-align: top;\n",
       "    }\n",
       "\n",
       "    .dataframe thead th {\n",
       "        text-align: right;\n",
       "    }\n",
       "</style>\n",
       "<table border=\"1\" class=\"dataframe\">\n",
       "  <thead>\n",
       "    <tr style=\"text-align: right;\">\n",
       "      <th></th>\n",
       "      <th>Text</th>\n",
       "    </tr>\n",
       "  </thead>\n",
       "  <tbody>\n",
       "    <tr>\n",
       "      <td>1</td>\n",
       "      <td>kunalb11 im alien</td>\n",
       "    </tr>\n",
       "    <tr>\n",
       "      <td>2</td>\n",
       "      <td>id_aa_carmack ray tracing cyberpunk hdr nextle...</td>\n",
       "    </tr>\n",
       "    <tr>\n",
       "      <td>3</td>\n",
       "      <td>joerogan spotify great interview</td>\n",
       "    </tr>\n",
       "    <tr>\n",
       "      <td>4</td>\n",
       "      <td>gtera27 doge underestimated</td>\n",
       "    </tr>\n",
       "    <tr>\n",
       "      <td>5</td>\n",
       "      <td>teslacn congratulations tesla china amazing ex...</td>\n",
       "    </tr>\n",
       "    <tr>\n",
       "      <td>...</td>\n",
       "      <td>...</td>\n",
       "    </tr>\n",
       "    <tr>\n",
       "      <td>1995</td>\n",
       "      <td>flcnhvy true sounds surreal negative propagand...</td>\n",
       "    </tr>\n",
       "    <tr>\n",
       "      <td>1996</td>\n",
       "      <td>ppathole make sure read ur terms amp condition...</td>\n",
       "    </tr>\n",
       "    <tr>\n",
       "      <td>1997</td>\n",
       "      <td>teslagong ppathole samwise gamgee</td>\n",
       "    </tr>\n",
       "    <tr>\n",
       "      <td>1998</td>\n",
       "      <td>ppathole altho dumb dumber u0001f525u0001f525</td>\n",
       "    </tr>\n",
       "    <tr>\n",
       "      <td>1999</td>\n",
       "      <td>progress update august 28</td>\n",
       "    </tr>\n",
       "  </tbody>\n",
       "</table>\n",
       "<p>1999 rows × 1 columns</p>\n",
       "</div>"
      ],
      "text/plain": [
       "                                                   Text\n",
       "1                                     kunalb11 im alien\n",
       "2     id_aa_carmack ray tracing cyberpunk hdr nextle...\n",
       "3                      joerogan spotify great interview\n",
       "4                           gtera27 doge underestimated\n",
       "5     teslacn congratulations tesla china amazing ex...\n",
       "...                                                 ...\n",
       "1995  flcnhvy true sounds surreal negative propagand...\n",
       "1996  ppathole make sure read ur terms amp condition...\n",
       "1997                  teslagong ppathole samwise gamgee\n",
       "1998      ppathole altho dumb dumber u0001f525u0001f525\n",
       "1999                          progress update august 28\n",
       "\n",
       "[1999 rows x 1 columns]"
      ]
     },
     "execution_count": 9,
     "metadata": {},
     "output_type": "execute_result"
    }
   ],
   "source": [
    "#Converting to lower case \n",
    "data['Text'] = data['Text'].apply(lambda x: \" \".join(x.lower() for x in x.split()))\n",
    "data"
   ]
  },
  {
   "cell_type": "code",
   "execution_count": 10,
   "metadata": {
    "ExecuteTime": {
     "end_time": "2022-02-20T17:25:27.121893Z",
     "start_time": "2022-02-20T17:25:26.107759Z"
    }
   },
   "outputs": [
    {
     "data": {
      "text/plain": [
       "1                                       kunalb11 im alien\n",
       "2       id_aa_carmack ray trace cyberpunk hdr nextleve...\n",
       "3                        joerogan spotifi great interview\n",
       "4                                 gtera27 doge underestim\n",
       "5       teslacn congratul tesla china amaz execut last...\n",
       "                              ...                        \n",
       "1995    flcnhvi true sound surreal neg propaganda stil...\n",
       "1996    ppathol make sure read ur term amp condit clic...\n",
       "1997                       teslagong ppathol samwis gamge\n",
       "1998         ppathol altho dumb dumber u0001f525u0001f525\n",
       "1999                             progress updat august 28\n",
       "Name: Text, Length: 1999, dtype: object"
      ]
     },
     "execution_count": 10,
     "metadata": {},
     "output_type": "execute_result"
    }
   ],
   "source": [
    "# Stemming\n",
    "st = PorterStemmer()\n",
    "data['Text'] = data['Text'].apply(lambda x: \" \".join([st.stem(word) for word in x.split()]))\n",
    "data['Text']"
   ]
  },
  {
   "cell_type": "markdown",
   "metadata": {},
   "source": [
    "## Sentiment analysis"
   ]
  },
  {
   "cell_type": "code",
   "execution_count": 11,
   "metadata": {
    "ExecuteTime": {
     "end_time": "2022-02-20T17:25:27.199064Z",
     "start_time": "2022-02-20T17:25:27.127104Z"
    }
   },
   "outputs": [
    {
     "data": {
      "text/html": [
       "<div>\n",
       "<style scoped>\n",
       "    .dataframe tbody tr th:only-of-type {\n",
       "        vertical-align: middle;\n",
       "    }\n",
       "\n",
       "    .dataframe tbody tr th {\n",
       "        vertical-align: top;\n",
       "    }\n",
       "\n",
       "    .dataframe thead th {\n",
       "        text-align: right;\n",
       "    }\n",
       "</style>\n",
       "<table border=\"1\" class=\"dataframe\">\n",
       "  <thead>\n",
       "    <tr style=\"text-align: right;\">\n",
       "      <th></th>\n",
       "      <th>word</th>\n",
       "      <th>value</th>\n",
       "    </tr>\n",
       "  </thead>\n",
       "  <tbody>\n",
       "    <tr>\n",
       "      <td>0</td>\n",
       "      <td>abandon</td>\n",
       "      <td>-2</td>\n",
       "    </tr>\n",
       "    <tr>\n",
       "      <td>1</td>\n",
       "      <td>abandoned</td>\n",
       "      <td>-2</td>\n",
       "    </tr>\n",
       "    <tr>\n",
       "      <td>2</td>\n",
       "      <td>abandons</td>\n",
       "      <td>-2</td>\n",
       "    </tr>\n",
       "    <tr>\n",
       "      <td>3</td>\n",
       "      <td>abducted</td>\n",
       "      <td>-2</td>\n",
       "    </tr>\n",
       "    <tr>\n",
       "      <td>4</td>\n",
       "      <td>abduction</td>\n",
       "      <td>-2</td>\n",
       "    </tr>\n",
       "  </tbody>\n",
       "</table>\n",
       "</div>"
      ],
      "text/plain": [
       "        word  value\n",
       "0    abandon     -2\n",
       "1  abandoned     -2\n",
       "2   abandons     -2\n",
       "3   abducted     -2\n",
       "4  abduction     -2"
      ]
     },
     "execution_count": 11,
     "metadata": {},
     "output_type": "execute_result"
    }
   ],
   "source": [
    "#Sentiment analysis\n",
    "afinn = pd.read_csv('Afinn.csv', sep=',', encoding='latin-1')\n",
    "afinn.head()"
   ]
  },
  {
   "cell_type": "code",
   "execution_count": 12,
   "metadata": {
    "ExecuteTime": {
     "end_time": "2022-02-20T17:25:27.293600Z",
     "start_time": "2022-02-20T17:25:27.206060Z"
    }
   },
   "outputs": [],
   "source": [
    "#Slicing the text\n",
    "from itertools import islice\n",
    "def take(n,iterable):\n",
    "    \"Return first n items of the iterable as list\"\n",
    "    return list(islice(iterable,n))"
   ]
  },
  {
   "cell_type": "code",
   "execution_count": 13,
   "metadata": {
    "ExecuteTime": {
     "end_time": "2022-02-20T17:25:27.424277Z",
     "start_time": "2022-02-20T17:25:27.296601Z"
    }
   },
   "outputs": [
    {
     "data": {
      "text/plain": [
       "[('abandon', -2),\n",
       " ('abandoned', -2),\n",
       " ('abandons', -2),\n",
       " ('abducted', -2),\n",
       " ('abduction', -2),\n",
       " ('abductions', -2),\n",
       " ('abhor', -3),\n",
       " ('abhorred', -3),\n",
       " ('abhorrent', -3),\n",
       " ('abhors', -3),\n",
       " ('abilities', 2),\n",
       " ('ability', 2),\n",
       " ('aboard', 1),\n",
       " ('absentee', -1),\n",
       " ('absentees', -1),\n",
       " ('absolve', 2),\n",
       " ('absolved', 2),\n",
       " ('absolves', 2),\n",
       " ('absolving', 2),\n",
       " ('absorbed', 1)]"
      ]
     },
     "execution_count": 13,
     "metadata": {},
     "output_type": "execute_result"
    }
   ],
   "source": [
    "#coverting to dic format and for 20 words\n",
    "affinity_scores = afinn.set_index('word')['value'].to_dict()\n",
    "take(20,affinity_scores.items())"
   ]
  },
  {
   "cell_type": "code",
   "execution_count": 14,
   "metadata": {
    "ExecuteTime": {
     "end_time": "2022-02-20T17:25:29.921499Z",
     "start_time": "2022-02-20T17:25:27.428275Z"
    }
   },
   "outputs": [],
   "source": [
    "#Function to calculate the sentiment score\n",
    "nlp = spacy.load(\"en_core_web_sm\")\n",
    "sentiment_lexicon = affinity_scores\n",
    "\n",
    "def calculate_sentiment(Text: str = None):\n",
    "    sent_score = 0\n",
    "    if Text:\n",
    "        Text = nlp(Text)\n",
    "        for word in Text:\n",
    "            sent_score += sentiment_lexicon.get(word.lemma_, 0)\n",
    "    return sent_score"
   ]
  },
  {
   "cell_type": "code",
   "execution_count": 15,
   "metadata": {
    "ExecuteTime": {
     "end_time": "2022-02-20T17:25:56.291259Z",
     "start_time": "2022-02-20T17:25:29.926497Z"
    }
   },
   "outputs": [
    {
     "data": {
      "text/plain": [
       "1       0\n",
       "2       0\n",
       "3       3\n",
       "4       0\n",
       "5       0\n",
       "       ..\n",
       "1995   -2\n",
       "1996    1\n",
       "1997    0\n",
       "1998   -3\n",
       "1999    2\n",
       "Name: sentiment_value, Length: 1999, dtype: int64"
      ]
     },
     "execution_count": 15,
     "metadata": {},
     "output_type": "execute_result"
    }
   ],
   "source": [
    "#calulating the sentiment value for each sentence\n",
    "data['sentiment_value'] = data['Text'].apply(calculate_sentiment)\n",
    "data['sentiment_value']"
   ]
  },
  {
   "cell_type": "code",
   "execution_count": 16,
   "metadata": {
    "ExecuteTime": {
     "end_time": "2022-02-20T17:25:56.353224Z",
     "start_time": "2022-02-20T17:25:56.297256Z"
    }
   },
   "outputs": [
    {
     "data": {
      "text/plain": [
       "1      3\n",
       "2      9\n",
       "3      4\n",
       "4      3\n",
       "5     12\n",
       "6      5\n",
       "7      9\n",
       "8      5\n",
       "9      9\n",
       "10     4\n",
       "Name: word_count, dtype: int64"
      ]
     },
     "execution_count": 16,
     "metadata": {},
     "output_type": "execute_result"
    }
   ],
   "source": [
    "#word count for \"clean\"column\n",
    "data['word_count'] = data['Text'].str.split().apply(len)\n",
    "data['word_count'].head(10)"
   ]
  },
  {
   "cell_type": "code",
   "execution_count": 17,
   "metadata": {
    "ExecuteTime": {
     "end_time": "2022-02-20T17:25:56.497133Z",
     "start_time": "2022-02-20T17:25:56.362214Z"
    }
   },
   "outputs": [
    {
     "data": {
      "text/html": [
       "<div>\n",
       "<style scoped>\n",
       "    .dataframe tbody tr th:only-of-type {\n",
       "        vertical-align: middle;\n",
       "    }\n",
       "\n",
       "    .dataframe tbody tr th {\n",
       "        vertical-align: top;\n",
       "    }\n",
       "\n",
       "    .dataframe thead th {\n",
       "        text-align: right;\n",
       "    }\n",
       "</style>\n",
       "<table border=\"1\" class=\"dataframe\">\n",
       "  <thead>\n",
       "    <tr style=\"text-align: right;\">\n",
       "      <th></th>\n",
       "      <th>Text</th>\n",
       "      <th>sentiment_value</th>\n",
       "      <th>word_count</th>\n",
       "    </tr>\n",
       "  </thead>\n",
       "  <tbody>\n",
       "    <tr>\n",
       "      <td>187</td>\n",
       "      <td>naval some tyranni also road hell mostli pave ...</td>\n",
       "      <td>-7</td>\n",
       "      <td>10</td>\n",
       "    </tr>\n",
       "    <tr>\n",
       "      <td>1718</td>\n",
       "      <td>neuro_skept they dont fire onc some go sever s...</td>\n",
       "      <td>-6</td>\n",
       "      <td>17</td>\n",
       "    </tr>\n",
       "    <tr>\n",
       "      <td>1976</td>\n",
       "      <td>rationaletienn flcnhvi ppathol ihearttesla dea...</td>\n",
       "      <td>-5</td>\n",
       "      <td>7</td>\n",
       "    </tr>\n",
       "    <tr>\n",
       "      <td>1534</td>\n",
       "      <td>ppathol the earli investor part tesla wrong th...</td>\n",
       "      <td>-5</td>\n",
       "      <td>16</td>\n",
       "    </tr>\n",
       "    <tr>\n",
       "      <td>1016</td>\n",
       "      <td>enn_nafnlau there sketchi edit tesla wiki whit...</td>\n",
       "      <td>-5</td>\n",
       "      <td>13</td>\n",
       "    </tr>\n",
       "    <tr>\n",
       "      <td>894</td>\n",
       "      <td>pcgamer fear 2 best imo also dead space 2 they...</td>\n",
       "      <td>-5</td>\n",
       "      <td>12</td>\n",
       "    </tr>\n",
       "    <tr>\n",
       "      <td>784</td>\n",
       "      <td>ye damn cooki browser set</td>\n",
       "      <td>-4</td>\n",
       "      <td>5</td>\n",
       "    </tr>\n",
       "    <tr>\n",
       "      <td>542</td>\n",
       "      <td>engineers_fe paint make hell differ</td>\n",
       "      <td>-4</td>\n",
       "      <td>5</td>\n",
       "    </tr>\n",
       "    <tr>\n",
       "      <td>1306</td>\n",
       "      <td>sn8 starship flap amp nosecon done week then s...</td>\n",
       "      <td>-4</td>\n",
       "      <td>18</td>\n",
       "    </tr>\n",
       "    <tr>\n",
       "      <td>710</td>\n",
       "      <td>mario_livio hell wig collect</td>\n",
       "      <td>-4</td>\n",
       "      <td>4</td>\n",
       "    </tr>\n",
       "  </tbody>\n",
       "</table>\n",
       "</div>"
      ],
      "text/plain": [
       "                                                   Text  sentiment_value  \\\n",
       "187   naval some tyranni also road hell mostli pave ...               -7   \n",
       "1718  neuro_skept they dont fire onc some go sever s...               -6   \n",
       "1976  rationaletienn flcnhvi ppathol ihearttesla dea...               -5   \n",
       "1534  ppathol the earli investor part tesla wrong th...               -5   \n",
       "1016  enn_nafnlau there sketchi edit tesla wiki whit...               -5   \n",
       "894   pcgamer fear 2 best imo also dead space 2 they...               -5   \n",
       "784                           ye damn cooki browser set               -4   \n",
       "542                 engineers_fe paint make hell differ               -4   \n",
       "1306  sn8 starship flap amp nosecon done week then s...               -4   \n",
       "710                        mario_livio hell wig collect               -4   \n",
       "\n",
       "      word_count  \n",
       "187           10  \n",
       "1718          17  \n",
       "1976           7  \n",
       "1534          16  \n",
       "1016          13  \n",
       "894           12  \n",
       "784            5  \n",
       "542            5  \n",
       "1306          18  \n",
       "710            4  "
      ]
     },
     "execution_count": 17,
     "metadata": {},
     "output_type": "execute_result"
    }
   ],
   "source": [
    "#sort based on sentiment value\n",
    "data.sort_values(by='sentiment_value').head(10)"
   ]
  },
  {
   "cell_type": "code",
   "execution_count": 18,
   "metadata": {
    "ExecuteTime": {
     "end_time": "2022-02-20T17:25:56.640043Z",
     "start_time": "2022-02-20T17:25:56.502130Z"
    }
   },
   "outputs": [
    {
     "data": {
      "text/plain": [
       "count    1999.000000\n",
       "mean        0.521261\n",
       "std         1.571908\n",
       "min        -7.000000\n",
       "25%         0.000000\n",
       "50%         0.000000\n",
       "75%         1.000000\n",
       "max        10.000000\n",
       "Name: sentiment_value, dtype: float64"
      ]
     },
     "execution_count": 18,
     "metadata": {},
     "output_type": "execute_result"
    }
   ],
   "source": [
    "data['sentiment_value'].describe()"
   ]
  },
  {
   "cell_type": "code",
   "execution_count": 19,
   "metadata": {
    "ExecuteTime": {
     "end_time": "2022-02-20T17:25:56.764969Z",
     "start_time": "2022-02-20T17:25:56.649040Z"
    }
   },
   "outputs": [
    {
     "data": {
      "text/html": [
       "<div>\n",
       "<style scoped>\n",
       "    .dataframe tbody tr th:only-of-type {\n",
       "        vertical-align: middle;\n",
       "    }\n",
       "\n",
       "    .dataframe tbody tr th {\n",
       "        vertical-align: top;\n",
       "    }\n",
       "\n",
       "    .dataframe thead th {\n",
       "        text-align: right;\n",
       "    }\n",
       "</style>\n",
       "<table border=\"1\" class=\"dataframe\">\n",
       "  <thead>\n",
       "    <tr style=\"text-align: right;\">\n",
       "      <th></th>\n",
       "      <th>Text</th>\n",
       "      <th>sentiment_value</th>\n",
       "      <th>word_count</th>\n",
       "    </tr>\n",
       "  </thead>\n",
       "  <tbody>\n",
       "    <tr>\n",
       "      <td>7</td>\n",
       "      <td>frodo underdog all thought would fail himself ...</td>\n",
       "      <td>-2</td>\n",
       "      <td>9</td>\n",
       "    </tr>\n",
       "    <tr>\n",
       "      <td>21</td>\n",
       "      <td>freewalletorg ani crypto wallet wont give priv...</td>\n",
       "      <td>-1</td>\n",
       "      <td>10</td>\n",
       "    </tr>\n",
       "    <tr>\n",
       "      <td>22</td>\n",
       "      <td>freewalletorg your app suck</td>\n",
       "      <td>-3</td>\n",
       "      <td>4</td>\n",
       "    </tr>\n",
       "    <tr>\n",
       "      <td>26</td>\n",
       "      <td>rationaletienn adamklotz_ starlink staggeringl...</td>\n",
       "      <td>-1</td>\n",
       "      <td>12</td>\n",
       "    </tr>\n",
       "    <tr>\n",
       "      <td>33</td>\n",
       "      <td>sruhl everyon tesla receiv stock my comp stock...</td>\n",
       "      <td>-2</td>\n",
       "      <td>14</td>\n",
       "    </tr>\n",
       "    <tr>\n",
       "      <td>...</td>\n",
       "      <td>...</td>\n",
       "      <td>...</td>\n",
       "      <td>...</td>\n",
       "    </tr>\n",
       "    <tr>\n",
       "      <td>1977</td>\n",
       "      <td>thatt3slaguy flcnhvi ppathol ihearttesla earn ...</td>\n",
       "      <td>-1</td>\n",
       "      <td>14</td>\n",
       "    </tr>\n",
       "    <tr>\n",
       "      <td>1991</td>\n",
       "      <td>kenyanwalstreet not actual payout vest stock o...</td>\n",
       "      <td>-1</td>\n",
       "      <td>16</td>\n",
       "    </tr>\n",
       "    <tr>\n",
       "      <td>1992</td>\n",
       "      <td>ihearttesla no easi way answer tweet help dire...</td>\n",
       "      <td>-2</td>\n",
       "      <td>15</td>\n",
       "    </tr>\n",
       "    <tr>\n",
       "      <td>1995</td>\n",
       "      <td>flcnhvi true sound surreal neg propaganda stil...</td>\n",
       "      <td>-2</td>\n",
       "      <td>13</td>\n",
       "    </tr>\n",
       "    <tr>\n",
       "      <td>1998</td>\n",
       "      <td>ppathol altho dumb dumber u0001f525u0001f525</td>\n",
       "      <td>-3</td>\n",
       "      <td>5</td>\n",
       "    </tr>\n",
       "  </tbody>\n",
       "</table>\n",
       "<p>174 rows × 3 columns</p>\n",
       "</div>"
      ],
      "text/plain": [
       "                                                   Text  sentiment_value  \\\n",
       "7     frodo underdog all thought would fail himself ...               -2   \n",
       "21    freewalletorg ani crypto wallet wont give priv...               -1   \n",
       "22                          freewalletorg your app suck               -3   \n",
       "26    rationaletienn adamklotz_ starlink staggeringl...               -1   \n",
       "33    sruhl everyon tesla receiv stock my comp stock...               -2   \n",
       "...                                                 ...              ...   \n",
       "1977  thatt3slaguy flcnhvi ppathol ihearttesla earn ...               -1   \n",
       "1991  kenyanwalstreet not actual payout vest stock o...               -1   \n",
       "1992  ihearttesla no easi way answer tweet help dire...               -2   \n",
       "1995  flcnhvi true sound surreal neg propaganda stil...               -2   \n",
       "1998       ppathol altho dumb dumber u0001f525u0001f525               -3   \n",
       "\n",
       "      word_count  \n",
       "7              9  \n",
       "21            10  \n",
       "22             4  \n",
       "26            12  \n",
       "33            14  \n",
       "...          ...  \n",
       "1977          14  \n",
       "1991          16  \n",
       "1992          15  \n",
       "1995          13  \n",
       "1998           5  \n",
       "\n",
       "[174 rows x 3 columns]"
      ]
     },
     "execution_count": 19,
     "metadata": {},
     "output_type": "execute_result"
    }
   ],
   "source": [
    "#sentiment value less than or equal to 0\n",
    "data[data['sentiment_value']<0]"
   ]
  },
  {
   "cell_type": "code",
   "execution_count": 20,
   "metadata": {
    "ExecuteTime": {
     "end_time": "2022-02-20T17:25:56.874593Z",
     "start_time": "2022-02-20T17:25:56.768965Z"
    }
   },
   "outputs": [
    {
     "data": {
      "text/html": [
       "<div>\n",
       "<style scoped>\n",
       "    .dataframe tbody tr th:only-of-type {\n",
       "        vertical-align: middle;\n",
       "    }\n",
       "\n",
       "    .dataframe tbody tr th {\n",
       "        vertical-align: top;\n",
       "    }\n",
       "\n",
       "    .dataframe thead th {\n",
       "        text-align: right;\n",
       "    }\n",
       "</style>\n",
       "<table border=\"1\" class=\"dataframe\">\n",
       "  <thead>\n",
       "    <tr style=\"text-align: right;\">\n",
       "      <th></th>\n",
       "      <th>Text</th>\n",
       "      <th>sentiment_value</th>\n",
       "      <th>word_count</th>\n",
       "    </tr>\n",
       "  </thead>\n",
       "  <tbody>\n",
       "    <tr>\n",
       "      <td>3</td>\n",
       "      <td>joerogan spotifi great interview</td>\n",
       "      <td>3</td>\n",
       "      <td>4</td>\n",
       "    </tr>\n",
       "    <tr>\n",
       "      <td>8</td>\n",
       "      <td>owensparks_ flcnhvi anonyx10 haha thank</td>\n",
       "      <td>5</td>\n",
       "      <td>5</td>\n",
       "    </tr>\n",
       "    <tr>\n",
       "      <td>10</td>\n",
       "      <td>the entertain outcom like</td>\n",
       "      <td>2</td>\n",
       "      <td>4</td>\n",
       "    </tr>\n",
       "    <tr>\n",
       "      <td>17</td>\n",
       "      <td>freewalletorg thank fix</td>\n",
       "      <td>2</td>\n",
       "      <td>3</td>\n",
       "    </tr>\n",
       "    <tr>\n",
       "      <td>20</td>\n",
       "      <td>thi true power haha httpstcofc9uhqsd7o</td>\n",
       "      <td>3</td>\n",
       "      <td>5</td>\n",
       "    </tr>\n",
       "    <tr>\n",
       "      <td>...</td>\n",
       "      <td>...</td>\n",
       "      <td>...</td>\n",
       "      <td>...</td>\n",
       "    </tr>\n",
       "    <tr>\n",
       "      <td>1987</td>\n",
       "      <td>best use term full stack</td>\n",
       "      <td>3</td>\n",
       "      <td>5</td>\n",
       "    </tr>\n",
       "    <tr>\n",
       "      <td>1988</td>\n",
       "      <td>ppathol ihearttesla for sure thi great amp ter...</td>\n",
       "      <td>3</td>\n",
       "      <td>15</td>\n",
       "    </tr>\n",
       "    <tr>\n",
       "      <td>1990</td>\n",
       "      <td>buzzindelhi sorri hope soon</td>\n",
       "      <td>2</td>\n",
       "      <td>4</td>\n",
       "    </tr>\n",
       "    <tr>\n",
       "      <td>1996</td>\n",
       "      <td>ppathol make sure read ur term amp condit clic...</td>\n",
       "      <td>1</td>\n",
       "      <td>10</td>\n",
       "    </tr>\n",
       "    <tr>\n",
       "      <td>1999</td>\n",
       "      <td>progress updat august 28</td>\n",
       "      <td>2</td>\n",
       "      <td>4</td>\n",
       "    </tr>\n",
       "  </tbody>\n",
       "</table>\n",
       "<p>529 rows × 3 columns</p>\n",
       "</div>"
      ],
      "text/plain": [
       "                                                   Text  sentiment_value  \\\n",
       "3                      joerogan spotifi great interview                3   \n",
       "8               owensparks_ flcnhvi anonyx10 haha thank                5   \n",
       "10                            the entertain outcom like                2   \n",
       "17                              freewalletorg thank fix                2   \n",
       "20               thi true power haha httpstcofc9uhqsd7o                3   \n",
       "...                                                 ...              ...   \n",
       "1987                           best use term full stack                3   \n",
       "1988  ppathol ihearttesla for sure thi great amp ter...                3   \n",
       "1990                        buzzindelhi sorri hope soon                2   \n",
       "1996  ppathol make sure read ur term amp condit clic...                1   \n",
       "1999                           progress updat august 28                2   \n",
       "\n",
       "      word_count  \n",
       "3              4  \n",
       "8              5  \n",
       "10             4  \n",
       "17             3  \n",
       "20             5  \n",
       "...          ...  \n",
       "1987           5  \n",
       "1988          15  \n",
       "1990           4  \n",
       "1996          10  \n",
       "1999           4  \n",
       "\n",
       "[529 rows x 3 columns]"
      ]
     },
     "execution_count": 20,
     "metadata": {},
     "output_type": "execute_result"
    }
   ],
   "source": [
    "#sentiment value greater than 0\n",
    "data[data['sentiment_value']>0]"
   ]
  },
  {
   "cell_type": "code",
   "execution_count": 21,
   "metadata": {
    "ExecuteTime": {
     "end_time": "2022-02-20T17:25:57.061391Z",
     "start_time": "2022-02-20T17:25:56.880587Z"
    }
   },
   "outputs": [
    {
     "data": {
      "text/html": [
       "<div>\n",
       "<style scoped>\n",
       "    .dataframe tbody tr th:only-of-type {\n",
       "        vertical-align: middle;\n",
       "    }\n",
       "\n",
       "    .dataframe tbody tr th {\n",
       "        vertical-align: top;\n",
       "    }\n",
       "\n",
       "    .dataframe thead th {\n",
       "        text-align: right;\n",
       "    }\n",
       "</style>\n",
       "<table border=\"1\" class=\"dataframe\">\n",
       "  <thead>\n",
       "    <tr style=\"text-align: right;\">\n",
       "      <th></th>\n",
       "      <th>Text</th>\n",
       "      <th>sentiment_value</th>\n",
       "      <th>word_count</th>\n",
       "    </tr>\n",
       "  </thead>\n",
       "  <tbody>\n",
       "    <tr>\n",
       "      <td>1</td>\n",
       "      <td>kunalb11 im alien</td>\n",
       "      <td>0</td>\n",
       "      <td>3</td>\n",
       "    </tr>\n",
       "    <tr>\n",
       "      <td>2</td>\n",
       "      <td>id_aa_carmack ray trace cyberpunk hdr nextleve...</td>\n",
       "      <td>0</td>\n",
       "      <td>9</td>\n",
       "    </tr>\n",
       "    <tr>\n",
       "      <td>4</td>\n",
       "      <td>gtera27 doge underestim</td>\n",
       "      <td>0</td>\n",
       "      <td>3</td>\n",
       "    </tr>\n",
       "    <tr>\n",
       "      <td>5</td>\n",
       "      <td>teslacn congratul tesla china amaz execut last...</td>\n",
       "      <td>0</td>\n",
       "      <td>12</td>\n",
       "    </tr>\n",
       "    <tr>\n",
       "      <td>6</td>\n",
       "      <td>happi new year ox httpstco9wfkmyu2oj</td>\n",
       "      <td>0</td>\n",
       "      <td>5</td>\n",
       "    </tr>\n",
       "    <tr>\n",
       "      <td>...</td>\n",
       "      <td>...</td>\n",
       "      <td>...</td>\n",
       "      <td>...</td>\n",
       "    </tr>\n",
       "    <tr>\n",
       "      <td>1985</td>\n",
       "      <td>burakaydik true</td>\n",
       "      <td>0</td>\n",
       "      <td>2</td>\n",
       "    </tr>\n",
       "    <tr>\n",
       "      <td>1989</td>\n",
       "      <td>redmerci ye</td>\n",
       "      <td>0</td>\n",
       "      <td>2</td>\n",
       "    </tr>\n",
       "    <tr>\n",
       "      <td>1993</td>\n",
       "      <td>ai symbiosi u wait</td>\n",
       "      <td>0</td>\n",
       "      <td>4</td>\n",
       "    </tr>\n",
       "    <tr>\n",
       "      <td>1994</td>\n",
       "      <td>vistacruiser7 flcnhvi there</td>\n",
       "      <td>0</td>\n",
       "      <td>3</td>\n",
       "    </tr>\n",
       "    <tr>\n",
       "      <td>1997</td>\n",
       "      <td>teslagong ppathol samwis gamge</td>\n",
       "      <td>0</td>\n",
       "      <td>4</td>\n",
       "    </tr>\n",
       "  </tbody>\n",
       "</table>\n",
       "<p>1296 rows × 3 columns</p>\n",
       "</div>"
      ],
      "text/plain": [
       "                                                   Text  sentiment_value  \\\n",
       "1                                     kunalb11 im alien                0   \n",
       "2     id_aa_carmack ray trace cyberpunk hdr nextleve...                0   \n",
       "4                               gtera27 doge underestim                0   \n",
       "5     teslacn congratul tesla china amaz execut last...                0   \n",
       "6                  happi new year ox httpstco9wfkmyu2oj                0   \n",
       "...                                                 ...              ...   \n",
       "1985                                    burakaydik true                0   \n",
       "1989                                        redmerci ye                0   \n",
       "1993                                 ai symbiosi u wait                0   \n",
       "1994                        vistacruiser7 flcnhvi there                0   \n",
       "1997                     teslagong ppathol samwis gamge                0   \n",
       "\n",
       "      word_count  \n",
       "1              3  \n",
       "2              9  \n",
       "4              3  \n",
       "5             12  \n",
       "6              5  \n",
       "...          ...  \n",
       "1985           2  \n",
       "1989           2  \n",
       "1993           4  \n",
       "1994           3  \n",
       "1997           4  \n",
       "\n",
       "[1296 rows x 3 columns]"
      ]
     },
     "execution_count": 21,
     "metadata": {},
     "output_type": "execute_result"
    }
   ],
   "source": [
    "#sentiment value equal to 0\n",
    "data[data['sentiment_value']==0]"
   ]
  },
  {
   "cell_type": "code",
   "execution_count": 22,
   "metadata": {
    "ExecuteTime": {
     "end_time": "2022-02-20T17:25:59.640546Z",
     "start_time": "2022-02-20T17:25:57.070387Z"
    }
   },
   "outputs": [
    {
     "data": {
      "text/plain": [
       "<matplotlib.axes._subplots.AxesSubplot at 0x192c5bf9a48>"
      ]
     },
     "execution_count": 22,
     "metadata": {},
     "output_type": "execute_result"
    },
    {
     "data": {
      "image/png": "[encoded data removed]",
      "text/plain": [
       "<Figure size 432x288 with 1 Axes>"
      ]
     },
     "metadata": {
      "needs_background": "light"
     },
     "output_type": "display_data"
    }
   ],
   "source": [
    "#density plot based on sentiment value\n",
    "\n",
    "sns.distplot(data['sentiment_value'])"
   ]
  },
  {
   "cell_type": "code",
   "execution_count": 23,
   "metadata": {
    "ExecuteTime": {
     "end_time": "2022-02-20T17:25:59.672526Z",
     "start_time": "2022-02-20T17:25:59.660533Z"
    }
   },
   "outputs": [],
   "source": [
    "# Creating an index column\n",
    "data['index']=range(0,len(data))"
   ]
  },
  {
   "cell_type": "code",
   "execution_count": 24,
   "metadata": {
    "ExecuteTime": {
     "end_time": "2022-02-20T17:26:01.270543Z",
     "start_time": "2022-02-20T17:25:59.686518Z"
    }
   },
   "outputs": [
    {
     "data": {
      "text/plain": [
       "<matplotlib.axes._subplots.AxesSubplot at 0x192c5cf8d08>"
      ]
     },
     "execution_count": 24,
     "metadata": {},
     "output_type": "execute_result"
    },
    {
     "data": {
      "image/png": "[encoded data removed]",
      "text/plain": [
       "<Figure size 1080x720 with 1 Axes>"
      ]
     },
     "metadata": {
      "needs_background": "light"
     },
     "output_type": "display_data"
    }
   ],
   "source": [
    "#lineplot based on sentiment value\n",
    "plt.figure(figsize=(15, 10))\n",
    "sns.lineplot(y='sentiment_value',x = 'index',data=data)"
   ]
  },
  {
   "cell_type": "code",
   "execution_count": 25,
   "metadata": {
    "ExecuteTime": {
     "end_time": "2022-02-20T17:26:02.045065Z",
     "start_time": "2022-02-20T17:26:01.277538Z"
    }
   },
   "outputs": [
    {
     "data": {
      "text/plain": [
       "<matplotlib.axes._subplots.AxesSubplot at 0x192c71c3d88>"
      ]
     },
     "execution_count": 25,
     "metadata": {},
     "output_type": "execute_result"
    },
    {
     "data": {
      "image/png": "[encoded data removed]",
      "text/plain": [
       "<Figure size 576x576 with 1 Axes>"
      ]
     },
     "metadata": {
      "needs_background": "light"
     },
     "output_type": "display_data"
    }
   ],
   "source": [
    "#scatter plot between wordcount and sentiment value\n",
    "data.plot.scatter(x='word_count', y='sentiment_value', figsize=(8,8), title='Text sentiment value to text word count')"
   ]
  },
  {
   "cell_type": "markdown",
   "metadata": {
    "ExecuteTime": {
     "end_time": "2022-02-19T20:17:09.920334Z",
     "start_time": "2022-02-19T20:17:09.912334Z"
    }
   },
   "source": [
    "### After performing the sentiment analysis, most of the tweets are neutral and there are more no of positive tweets than the negative tweets.\n"
   ]
  },
  {
   "cell_type": "code",
   "execution_count": null,
   "metadata": {},
   "outputs": [],
   "source": []
  }
 ],
 "metadata": {
  "kernelspec": {
   "display_name": "Python 3",
   "language": "python",
   "name": "python3"
  },
  "language_info": {
   "codemirror_mode": {
    "name": "ipython",
    "version": 3
   },
   "file_extension": ".py",
   "mimetype": "text/x-python",
   "name": "python",
   "nbconvert_exporter": "python",
   "pygments_lexer": "ipython3",
   "version": "3.7.4"
  },
  "varInspector": {
   "cols": {
    "lenName": 16,
    "lenType": 16,
    "lenVar": 40
   },
   "kernels_config": {
    "python": {
     "delete_cmd_postfix": "",
     "delete_cmd_prefix": "del ",
     "library": "var_list.py",
     "varRefreshCmd": "print(var_dic_list())"
    },
    "r": {
     "delete_cmd_postfix": ") ",
     "delete_cmd_prefix": "rm(",
     "library": "var_list.r",
     "varRefreshCmd": "cat(var_dic_list()) "
    }
   },
   "types_to_exclude": [
    "module",
    "function",
    "builtin_function_or_method",
    "instance",
    "_Feature"
   ],
   "window_display": false
  }
 },
 "nbformat": 4,
 "nbformat_minor": 2
}
