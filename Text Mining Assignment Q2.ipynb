{
 "cells": [
  {
   "cell_type": "markdown",
   "metadata": {},
   "source": [
    "## Text Mining Assignment Q2"
   ]
  },
  {
   "cell_type": "markdown",
   "metadata": {},
   "source": [
    "#### 2) extract and perform emotion mining on the Amazon reviews"
   ]
  },
  {
   "cell_type": "code",
   "execution_count": 1,
   "metadata": {
    "ExecuteTime": {
     "end_time": "2022-02-20T17:25:23.912058Z",
     "start_time": "2022-02-20T17:25:10.550274Z"
    }
   },
   "outputs": [],
   "source": [
    "import pandas as pd\n",
    "import string\n",
    "from nltk.corpus import stopwords\n",
    "from nltk.stem import PorterStemmer \n",
    "import nltk\n",
    "import spacy\n",
    "import seaborn as sns\n",
    "import matplotlib.pyplot as plt\n"
   ]
  },
  {
   "cell_type": "code",
   "execution_count": 2,
   "metadata": {
    "ExecuteTime": {
     "end_time": "2022-02-20T17:25:24.540486Z",
     "start_time": "2022-02-20T17:25:23.920303Z"
    }
   },
   "outputs": [
    {
     "data": {
      "text/html": [
       "<div>\n",
       "<style scoped>\n",
       "    .dataframe tbody tr th:only-of-type {\n",
       "        vertical-align: middle;\n",
       "    }\n",
       "\n",
       "    .dataframe tbody tr th {\n",
       "        vertical-align: top;\n",
       "    }\n",
       "\n",
       "    .dataframe thead th {\n",
       "        text-align: right;\n",
       "    }\n",
       "</style>\n",
       "<table border=\"1\" class=\"dataframe\">\n",
       "  <thead>\n",
       "    <tr style=\"text-align: right;\">\n",
       "      <th></th>\n",
       "      <th>label</th>\n",
       "      <th>review</th>\n",
       "    </tr>\n",
       "  </thead>\n",
       "  <tbody>\n",
       "    <tr>\n",
       "      <td>0</td>\n",
       "      <td>pos</td>\n",
       "      <td>Stuning even for the non-gamer: This sound tra...</td>\n",
       "    </tr>\n",
       "    <tr>\n",
       "      <td>1</td>\n",
       "      <td>pos</td>\n",
       "      <td>The best soundtrack ever to anything.: I'm rea...</td>\n",
       "    </tr>\n",
       "    <tr>\n",
       "      <td>2</td>\n",
       "      <td>pos</td>\n",
       "      <td>Amazing!: This soundtrack is my favorite music...</td>\n",
       "    </tr>\n",
       "    <tr>\n",
       "      <td>3</td>\n",
       "      <td>pos</td>\n",
       "      <td>Excellent Soundtrack: I truly like this soundt...</td>\n",
       "    </tr>\n",
       "    <tr>\n",
       "      <td>4</td>\n",
       "      <td>pos</td>\n",
       "      <td>Remember, Pull Your Jaw Off The Floor After He...</td>\n",
       "    </tr>\n",
       "    <tr>\n",
       "      <td>...</td>\n",
       "      <td>...</td>\n",
       "      <td>...</td>\n",
       "    </tr>\n",
       "    <tr>\n",
       "      <td>9995</td>\n",
       "      <td>pos</td>\n",
       "      <td>A revelation of life in small town America in ...</td>\n",
       "    </tr>\n",
       "    <tr>\n",
       "      <td>9996</td>\n",
       "      <td>pos</td>\n",
       "      <td>Great biography of a very interesting journali...</td>\n",
       "    </tr>\n",
       "    <tr>\n",
       "      <td>9997</td>\n",
       "      <td>neg</td>\n",
       "      <td>Interesting Subject; Poor Presentation: You'd ...</td>\n",
       "    </tr>\n",
       "    <tr>\n",
       "      <td>9998</td>\n",
       "      <td>neg</td>\n",
       "      <td>Don't buy: The box looked used and it is obvio...</td>\n",
       "    </tr>\n",
       "    <tr>\n",
       "      <td>9999</td>\n",
       "      <td>pos</td>\n",
       "      <td>Beautiful Pen and Fast Delivery.: The pen was ...</td>\n",
       "    </tr>\n",
       "  </tbody>\n",
       "</table>\n",
       "<p>10000 rows × 2 columns</p>\n",
       "</div>"
      ],
      "text/plain": [
       "     label                                             review\n",
       "0      pos  Stuning even for the non-gamer: This sound tra...\n",
       "1      pos  The best soundtrack ever to anything.: I'm rea...\n",
       "2      pos  Amazing!: This soundtrack is my favorite music...\n",
       "3      pos  Excellent Soundtrack: I truly like this soundt...\n",
       "4      pos  Remember, Pull Your Jaw Off The Floor After He...\n",
       "...    ...                                                ...\n",
       "9995   pos  A revelation of life in small town America in ...\n",
       "9996   pos  Great biography of a very interesting journali...\n",
       "9997   neg  Interesting Subject; Poor Presentation: You'd ...\n",
       "9998   neg  Don't buy: The box looked used and it is obvio...\n",
       "9999   pos  Beautiful Pen and Fast Delivery.: The pen was ...\n",
       "\n",
       "[10000 rows x 2 columns]"
      ]
     },
     "execution_count": 2,
     "metadata": {},
     "output_type": "execute_result"
    }
   ],
   "source": [
    "# Read the data\n",
    "data = pd.read_csv('amazonreviews.tsv',sep='\\t', error_bad_lines=False)\n",
    "data"
   ]
  },
  {
   "cell_type": "code",
   "execution_count": 3,
   "metadata": {
    "ExecuteTime": {
     "end_time": "2022-02-20T17:25:24.572469Z",
     "start_time": "2022-02-20T17:25:24.546480Z"
    }
   },
   "outputs": [],
   "source": [
    "#Removing the trailing and leading characters\n",
    "data['review'] = data['review'].str.strip()"
   ]
  },
  {
   "cell_type": "code",
   "execution_count": 4,
   "metadata": {
    "ExecuteTime": {
     "end_time": "2022-02-20T17:25:25.043189Z",
     "start_time": "2022-02-20T17:25:24.582457Z"
    }
   },
   "outputs": [
    {
     "data": {
      "text/html": [
       "<div>\n",
       "<style scoped>\n",
       "    .dataframe tbody tr th:only-of-type {\n",
       "        vertical-align: middle;\n",
       "    }\n",
       "\n",
       "    .dataframe tbody tr th {\n",
       "        vertical-align: top;\n",
       "    }\n",
       "\n",
       "    .dataframe thead th {\n",
       "        text-align: right;\n",
       "    }\n",
       "</style>\n",
       "<table border=\"1\" class=\"dataframe\">\n",
       "  <thead>\n",
       "    <tr style=\"text-align: right;\">\n",
       "      <th></th>\n",
       "      <th>label</th>\n",
       "      <th>review</th>\n",
       "    </tr>\n",
       "  </thead>\n",
       "  <tbody>\n",
       "    <tr>\n",
       "      <td>0</td>\n",
       "      <td>pos</td>\n",
       "      <td>Stuning even for the non-gamer: This sound tra...</td>\n",
       "    </tr>\n",
       "    <tr>\n",
       "      <td>1</td>\n",
       "      <td>pos</td>\n",
       "      <td>The best soundtrack ever to anything.: I'm rea...</td>\n",
       "    </tr>\n",
       "    <tr>\n",
       "      <td>2</td>\n",
       "      <td>pos</td>\n",
       "      <td>Amazing!: This soundtrack is my favorite music...</td>\n",
       "    </tr>\n",
       "    <tr>\n",
       "      <td>3</td>\n",
       "      <td>pos</td>\n",
       "      <td>Excellent Soundtrack: I truly like this soundt...</td>\n",
       "    </tr>\n",
       "    <tr>\n",
       "      <td>4</td>\n",
       "      <td>pos</td>\n",
       "      <td>Remember, Pull Your Jaw Off The Floor After He...</td>\n",
       "    </tr>\n",
       "    <tr>\n",
       "      <td>...</td>\n",
       "      <td>...</td>\n",
       "      <td>...</td>\n",
       "    </tr>\n",
       "    <tr>\n",
       "      <td>9995</td>\n",
       "      <td>pos</td>\n",
       "      <td>A revelation of life in small town America in ...</td>\n",
       "    </tr>\n",
       "    <tr>\n",
       "      <td>9996</td>\n",
       "      <td>pos</td>\n",
       "      <td>Great biography of a very interesting journali...</td>\n",
       "    </tr>\n",
       "    <tr>\n",
       "      <td>9997</td>\n",
       "      <td>neg</td>\n",
       "      <td>Interesting Subject; Poor Presentation: You'd ...</td>\n",
       "    </tr>\n",
       "    <tr>\n",
       "      <td>9998</td>\n",
       "      <td>neg</td>\n",
       "      <td>Don't buy: The box looked used and it is obvio...</td>\n",
       "    </tr>\n",
       "    <tr>\n",
       "      <td>9999</td>\n",
       "      <td>pos</td>\n",
       "      <td>Beautiful Pen and Fast Delivery.: The pen was ...</td>\n",
       "    </tr>\n",
       "  </tbody>\n",
       "</table>\n",
       "<p>10000 rows × 2 columns</p>\n",
       "</div>"
      ],
      "text/plain": [
       "     label                                             review\n",
       "0      pos  Stuning even for the non-gamer: This sound tra...\n",
       "1      pos  The best soundtrack ever to anything.: I'm rea...\n",
       "2      pos  Amazing!: This soundtrack is my favorite music...\n",
       "3      pos  Excellent Soundtrack: I truly like this soundt...\n",
       "4      pos  Remember, Pull Your Jaw Off The Floor After He...\n",
       "...    ...                                                ...\n",
       "9995   pos  A revelation of life in small town America in ...\n",
       "9996   pos  Great biography of a very interesting journali...\n",
       "9997   neg  Interesting Subject; Poor Presentation: You'd ...\n",
       "9998   neg  Don't buy: The box looked used and it is obvio...\n",
       "9999   pos  Beautiful Pen and Fast Delivery.: The pen was ...\n",
       "\n",
       "[10000 rows x 2 columns]"
      ]
     },
     "execution_count": 4,
     "metadata": {},
     "output_type": "execute_result"
    }
   ],
   "source": [
    "# Removing the empty strings, because they are considered in Python as False\n",
    "data.dropna(subset=['review'], inplace=True)\n",
    "data"
   ]
  },
  {
   "cell_type": "code",
   "execution_count": 5,
   "metadata": {
    "ExecuteTime": {
     "end_time": "2022-02-20T17:25:25.309442Z",
     "start_time": "2022-02-20T17:25:25.049183Z"
    }
   },
   "outputs": [],
   "source": [
    "# Stopwords"
   ]
  },
  {
   "cell_type": "code",
   "execution_count": 6,
   "metadata": {
    "ExecuteTime": {
     "end_time": "2022-02-20T17:25:25.885899Z",
     "start_time": "2022-02-20T17:25:25.313436Z"
    }
   },
   "outputs": [
    {
     "name": "stderr",
     "output_type": "stream",
     "text": [
      "[nltk_data] Downloading package stopwords to\n",
      "[nltk_data]     C:\\Users\\hp\\AppData\\Roaming\\nltk_data...\n",
      "[nltk_data]   Package stopwords is already up-to-date!\n"
     ]
    },
    {
     "data": {
      "text/plain": [
       "['i', 'me', 'my', 'myself', 'we', 'our', 'ours', 'ourselves', 'you', \"you're\"]"
      ]
     },
     "execution_count": 6,
     "metadata": {},
     "output_type": "execute_result"
    }
   ],
   "source": [
    "nltk.download('stopwords')\n",
    "my_stopwords = stopwords.words('english')\n",
    "my_stopwords[0:10]"
   ]
  },
  {
   "cell_type": "code",
   "execution_count": 7,
   "metadata": {
    "ExecuteTime": {
     "end_time": "2022-02-20T17:25:29.213242Z",
     "start_time": "2022-02-20T17:25:25.893890Z"
    }
   },
   "outputs": [
    {
     "data": {
      "text/plain": [
       "0       Stuning even non-gamer: This sound track beaut...\n",
       "1       The best soundtrack ever anything.: I'm readin...\n",
       "2       Amazing!: This soundtrack favorite music time,...\n",
       "3       Excellent Soundtrack: I truly like soundtrack ...\n",
       "4       Remember, Pull Your Jaw Off The Floor After He...\n",
       "                              ...                        \n",
       "9995    A revelation life small town America early 190...\n",
       "9996    Great biography interesting journalist: This b...\n",
       "9997    Interesting Subject; Poor Presentation: You'd ...\n",
       "9998    Don't buy: The box looked used obviously new. ...\n",
       "9999    Beautiful Pen Fast Delivery.: The pen shipped ...\n",
       "Name: review, Length: 10000, dtype: object"
      ]
     },
     "execution_count": 7,
     "metadata": {},
     "output_type": "execute_result"
    }
   ],
   "source": [
    "#removing stopwords\n",
    "data['review'] = data['review'].apply(lambda x: ' '.join([x for x in x.split() if x not in (my_stopwords)]))\n",
    "data['review']"
   ]
  },
  {
   "cell_type": "code",
   "execution_count": 8,
   "metadata": {
    "ExecuteTime": {
     "end_time": "2022-02-20T17:25:29.528051Z",
     "start_time": "2022-02-20T17:25:29.225235Z"
    }
   },
   "outputs": [
    {
     "data": {
      "text/plain": [
       "0       Stuning even nongamer This sound track beautif...\n",
       "1       The best soundtrack ever anything Im reading l...\n",
       "2       Amazing This soundtrack favorite music time ha...\n",
       "3       Excellent Soundtrack I truly like soundtrack I...\n",
       "4       Remember Pull Your Jaw Off The Floor After Hea...\n",
       "                              ...                        \n",
       "9995    A revelation life small town America early 190...\n",
       "9996    Great biography interesting journalist This bi...\n",
       "9997    Interesting Subject Poor Presentation Youd har...\n",
       "9998    Dont buy The box looked used obviously new I t...\n",
       "9999    Beautiful Pen Fast Delivery The pen shipped pr...\n",
       "Name: review, Length: 10000, dtype: object"
      ]
     },
     "execution_count": 8,
     "metadata": {},
     "output_type": "execute_result"
    }
   ],
   "source": [
    "#removing punctuations\n",
    "data['review'] = data['review'].str.replace(r'[^\\w\\s]+', '')\n",
    "data['review']"
   ]
  },
  {
   "cell_type": "code",
   "execution_count": 9,
   "metadata": {
    "ExecuteTime": {
     "end_time": "2022-02-20T17:25:29.747935Z",
     "start_time": "2022-02-20T17:25:29.533048Z"
    }
   },
   "outputs": [
    {
     "data": {
      "text/plain": [
       "0       stuning even nongamer this sound track beautif...\n",
       "1       the best soundtrack ever anything im reading l...\n",
       "2       amazing this soundtrack favorite music time ha...\n",
       "3       excellent soundtrack i truly like soundtrack i...\n",
       "4       remember pull your jaw off the floor after hea...\n",
       "                              ...                        \n",
       "9995    a revelation life small town america early 190...\n",
       "9996    great biography interesting journalist this bi...\n",
       "9997    interesting subject poor presentation youd har...\n",
       "9998    dont buy the box looked used obviously new i t...\n",
       "9999    beautiful pen fast delivery the pen shipped pr...\n",
       "Name: review, Length: 10000, dtype: object"
      ]
     },
     "execution_count": 9,
     "metadata": {},
     "output_type": "execute_result"
    }
   ],
   "source": [
    "#Converting to lower case \n",
    "data['review'] = data['review'].apply(lambda x: \" \".join(x.lower() for x in x.split()))\n",
    "data['review']"
   ]
  },
  {
   "cell_type": "code",
   "execution_count": 10,
   "metadata": {
    "ExecuteTime": {
     "end_time": "2022-02-20T17:25:55.357835Z",
     "start_time": "2022-02-20T17:25:29.751911Z"
    }
   },
   "outputs": [
    {
     "data": {
      "text/plain": [
       "0       stune even nongam thi sound track beauti it pa...\n",
       "1       the best soundtrack ever anyth im read lot rev...\n",
       "2       amaz thi soundtrack favorit music time hand do...\n",
       "3       excel soundtrack i truli like soundtrack i enj...\n",
       "4       rememb pull your jaw off the floor after hear ...\n",
       "                              ...                        \n",
       "9995    a revel life small town america earli 1900 tho...\n",
       "9996    great biographi interest journalist thi biogra...\n",
       "9997    interest subject poor present youd hardpress t...\n",
       "9998    dont buy the box look use obvious new i tri co...\n",
       "9999    beauti pen fast deliveri the pen ship promptli...\n",
       "Name: review, Length: 10000, dtype: object"
      ]
     },
     "execution_count": 10,
     "metadata": {},
     "output_type": "execute_result"
    }
   ],
   "source": [
    "# Stemming\n",
    "st = PorterStemmer()\n",
    "data['review'] = data['review'].apply(lambda x: \" \".join([st.stem(word) for word in x.split()]))\n",
    "data['review']"
   ]
  },
  {
   "cell_type": "markdown",
   "metadata": {},
   "source": [
    "## Sentiment analysis"
   ]
  },
  {
   "cell_type": "code",
   "execution_count": 11,
   "metadata": {
    "ExecuteTime": {
     "end_time": "2022-02-20T17:25:55.437785Z",
     "start_time": "2022-02-20T17:25:55.361831Z"
    }
   },
   "outputs": [
    {
     "data": {
      "text/html": [
       "<div>\n",
       "<style scoped>\n",
       "    .dataframe tbody tr th:only-of-type {\n",
       "        vertical-align: middle;\n",
       "    }\n",
       "\n",
       "    .dataframe tbody tr th {\n",
       "        vertical-align: top;\n",
       "    }\n",
       "\n",
       "    .dataframe thead th {\n",
       "        text-align: right;\n",
       "    }\n",
       "</style>\n",
       "<table border=\"1\" class=\"dataframe\">\n",
       "  <thead>\n",
       "    <tr style=\"text-align: right;\">\n",
       "      <th></th>\n",
       "      <th>word</th>\n",
       "      <th>value</th>\n",
       "    </tr>\n",
       "  </thead>\n",
       "  <tbody>\n",
       "    <tr>\n",
       "      <td>0</td>\n",
       "      <td>abandon</td>\n",
       "      <td>-2</td>\n",
       "    </tr>\n",
       "    <tr>\n",
       "      <td>1</td>\n",
       "      <td>abandoned</td>\n",
       "      <td>-2</td>\n",
       "    </tr>\n",
       "    <tr>\n",
       "      <td>2</td>\n",
       "      <td>abandons</td>\n",
       "      <td>-2</td>\n",
       "    </tr>\n",
       "    <tr>\n",
       "      <td>3</td>\n",
       "      <td>abducted</td>\n",
       "      <td>-2</td>\n",
       "    </tr>\n",
       "    <tr>\n",
       "      <td>4</td>\n",
       "      <td>abduction</td>\n",
       "      <td>-2</td>\n",
       "    </tr>\n",
       "  </tbody>\n",
       "</table>\n",
       "</div>"
      ],
      "text/plain": [
       "        word  value\n",
       "0    abandon     -2\n",
       "1  abandoned     -2\n",
       "2   abandons     -2\n",
       "3   abducted     -2\n",
       "4  abduction     -2"
      ]
     },
     "execution_count": 11,
     "metadata": {},
     "output_type": "execute_result"
    }
   ],
   "source": [
    "#Sentiment analysis\n",
    "afinn = pd.read_csv('Afinn.csv', sep=',', encoding='latin-1')\n",
    "afinn.head()"
   ]
  },
  {
   "cell_type": "code",
   "execution_count": 12,
   "metadata": {
    "ExecuteTime": {
     "end_time": "2022-02-20T17:25:55.581698Z",
     "start_time": "2022-02-20T17:25:55.442782Z"
    }
   },
   "outputs": [],
   "source": [
    "#Slicing the text\n",
    "from itertools import islice\n",
    "def take(n,iterable):\n",
    "    \"Return first n items of the iterable as list\"\n",
    "    return list(islice(iterable,n))"
   ]
  },
  {
   "cell_type": "code",
   "execution_count": 13,
   "metadata": {
    "ExecuteTime": {
     "end_time": "2022-02-20T17:25:55.771586Z",
     "start_time": "2022-02-20T17:25:55.587692Z"
    }
   },
   "outputs": [
    {
     "data": {
      "text/plain": [
       "[('abandon', -2),\n",
       " ('abandoned', -2),\n",
       " ('abandons', -2),\n",
       " ('abducted', -2),\n",
       " ('abduction', -2),\n",
       " ('abductions', -2),\n",
       " ('abhor', -3),\n",
       " ('abhorred', -3),\n",
       " ('abhorrent', -3),\n",
       " ('abhors', -3),\n",
       " ('abilities', 2),\n",
       " ('ability', 2),\n",
       " ('aboard', 1),\n",
       " ('absentee', -1),\n",
       " ('absentees', -1),\n",
       " ('absolve', 2),\n",
       " ('absolved', 2),\n",
       " ('absolves', 2),\n",
       " ('absolving', 2),\n",
       " ('absorbed', 1)]"
      ]
     },
     "execution_count": 13,
     "metadata": {},
     "output_type": "execute_result"
    }
   ],
   "source": [
    "#coverting to dic format and for 20 words\n",
    "affinity_scores = afinn.set_index('word')['value'].to_dict()\n",
    "take(20,affinity_scores.items())"
   ]
  },
  {
   "cell_type": "code",
   "execution_count": 14,
   "metadata": {
    "ExecuteTime": {
     "end_time": "2022-02-20T17:25:58.389803Z",
     "start_time": "2022-02-20T17:25:55.782572Z"
    }
   },
   "outputs": [],
   "source": [
    "#Function to calculate the sentiment score\n",
    "nlp = spacy.load(\"en_core_web_sm\")\n",
    "sentiment_lexicon = affinity_scores\n",
    "\n",
    "def calculate_sentiment(Text: str = None):\n",
    "    sent_score = 0\n",
    "    if Text:\n",
    "        Text = nlp(Text)\n",
    "        for word in Text:\n",
    "            sent_score += sentiment_lexicon.get(word.lemma_, 0)\n",
    "    return sent_score"
   ]
  },
  {
   "cell_type": "code",
   "execution_count": 15,
   "metadata": {
    "ExecuteTime": {
     "end_time": "2022-02-20T17:29:49.362131Z",
     "start_time": "2022-02-20T17:25:58.393312Z"
    }
   },
   "outputs": [
    {
     "data": {
      "text/plain": [
       "0        5\n",
       "1        8\n",
       "2        9\n",
       "3        9\n",
       "4       12\n",
       "        ..\n",
       "9995    10\n",
       "9996     8\n",
       "9997     7\n",
       "9998     0\n",
       "9999    12\n",
       "Name: sentiment_value, Length: 10000, dtype: int64"
      ]
     },
     "execution_count": 15,
     "metadata": {},
     "output_type": "execute_result"
    }
   ],
   "source": [
    "#calulating the sentiment value for each sentence\n",
    "data['sentiment_value'] = data['review'].apply(calculate_sentiment)\n",
    "data['sentiment_value']"
   ]
  },
  {
   "cell_type": "code",
   "execution_count": 16,
   "metadata": {
    "ExecuteTime": {
     "end_time": "2022-02-20T17:29:49.518965Z",
     "start_time": "2022-02-20T17:29:49.366126Z"
    }
   },
   "outputs": [
    {
     "data": {
      "text/plain": [
       "0    51\n",
       "1    55\n",
       "2    80\n",
       "3    83\n",
       "4    59\n",
       "5    80\n",
       "6    85\n",
       "7    54\n",
       "8    59\n",
       "9    39\n",
       "Name: word_count, dtype: int64"
      ]
     },
     "execution_count": 16,
     "metadata": {},
     "output_type": "execute_result"
    }
   ],
   "source": [
    "#word count for \"clean\"column\n",
    "data['word_count'] = data['review'].str.split().apply(len)\n",
    "data['word_count'].head(10)"
   ]
  },
  {
   "cell_type": "code",
   "execution_count": 17,
   "metadata": {
    "ExecuteTime": {
     "end_time": "2022-02-20T17:29:49.629618Z",
     "start_time": "2022-02-20T17:29:49.522971Z"
    }
   },
   "outputs": [
    {
     "data": {
      "text/html": [
       "<div>\n",
       "<style scoped>\n",
       "    .dataframe tbody tr th:only-of-type {\n",
       "        vertical-align: middle;\n",
       "    }\n",
       "\n",
       "    .dataframe tbody tr th {\n",
       "        vertical-align: top;\n",
       "    }\n",
       "\n",
       "    .dataframe thead th {\n",
       "        text-align: right;\n",
       "    }\n",
       "</style>\n",
       "<table border=\"1\" class=\"dataframe\">\n",
       "  <thead>\n",
       "    <tr style=\"text-align: right;\">\n",
       "      <th></th>\n",
       "      <th>label</th>\n",
       "      <th>review</th>\n",
       "      <th>sentiment_value</th>\n",
       "      <th>word_count</th>\n",
       "    </tr>\n",
       "  </thead>\n",
       "  <tbody>\n",
       "    <tr>\n",
       "      <td>3093</td>\n",
       "      <td>neg</td>\n",
       "      <td>an insult marin as soon movi start i saw wwe t...</td>\n",
       "      <td>-26</td>\n",
       "      <td>103</td>\n",
       "    </tr>\n",
       "    <tr>\n",
       "      <td>2908</td>\n",
       "      <td>neg</td>\n",
       "      <td>geh blah blah sexi girl blah blah fight robot ...</td>\n",
       "      <td>-23</td>\n",
       "      <td>21</td>\n",
       "    </tr>\n",
       "    <tr>\n",
       "      <td>8195</td>\n",
       "      <td>neg</td>\n",
       "      <td>wish i could give 0 star thi one worst movi i ...</td>\n",
       "      <td>-20</td>\n",
       "      <td>87</td>\n",
       "    </tr>\n",
       "    <tr>\n",
       "      <td>8358</td>\n",
       "      <td>neg</td>\n",
       "      <td>im afraid suck i saw neg review thought must u...</td>\n",
       "      <td>-20</td>\n",
       "      <td>61</td>\n",
       "    </tr>\n",
       "    <tr>\n",
       "      <td>4406</td>\n",
       "      <td>neg</td>\n",
       "      <td>stupid student review gabriel c romeo juliet s...</td>\n",
       "      <td>-19</td>\n",
       "      <td>80</td>\n",
       "    </tr>\n",
       "    <tr>\n",
       "      <td>2901</td>\n",
       "      <td>neg</td>\n",
       "      <td>redefinit lame i low expect still met my satis...</td>\n",
       "      <td>-19</td>\n",
       "      <td>60</td>\n",
       "    </tr>\n",
       "    <tr>\n",
       "      <td>3695</td>\n",
       "      <td>neg</td>\n",
       "      <td>jack the idjit i think three compani worst sit...</td>\n",
       "      <td>-19</td>\n",
       "      <td>35</td>\n",
       "    </tr>\n",
       "    <tr>\n",
       "      <td>1269</td>\n",
       "      <td>neg</td>\n",
       "      <td>the worst ever i thought book worst book ever ...</td>\n",
       "      <td>-19</td>\n",
       "      <td>46</td>\n",
       "    </tr>\n",
       "    <tr>\n",
       "      <td>718</td>\n",
       "      <td>neg</td>\n",
       "      <td>just skip it when read book know read 100 true...</td>\n",
       "      <td>-19</td>\n",
       "      <td>89</td>\n",
       "    </tr>\n",
       "    <tr>\n",
       "      <td>8132</td>\n",
       "      <td>neg</td>\n",
       "      <td>bewar evil capitalist and ghost movi them some...</td>\n",
       "      <td>-18</td>\n",
       "      <td>86</td>\n",
       "    </tr>\n",
       "  </tbody>\n",
       "</table>\n",
       "</div>"
      ],
      "text/plain": [
       "     label                                             review  \\\n",
       "3093   neg  an insult marin as soon movi start i saw wwe t...   \n",
       "2908   neg  geh blah blah sexi girl blah blah fight robot ...   \n",
       "8195   neg  wish i could give 0 star thi one worst movi i ...   \n",
       "8358   neg  im afraid suck i saw neg review thought must u...   \n",
       "4406   neg  stupid student review gabriel c romeo juliet s...   \n",
       "2901   neg  redefinit lame i low expect still met my satis...   \n",
       "3695   neg  jack the idjit i think three compani worst sit...   \n",
       "1269   neg  the worst ever i thought book worst book ever ...   \n",
       "718    neg  just skip it when read book know read 100 true...   \n",
       "8132   neg  bewar evil capitalist and ghost movi them some...   \n",
       "\n",
       "      sentiment_value  word_count  \n",
       "3093              -26         103  \n",
       "2908              -23          21  \n",
       "8195              -20          87  \n",
       "8358              -20          61  \n",
       "4406              -19          80  \n",
       "2901              -19          60  \n",
       "3695              -19          35  \n",
       "1269              -19          46  \n",
       "718               -19          89  \n",
       "8132              -18          86  "
      ]
     },
     "execution_count": 17,
     "metadata": {},
     "output_type": "execute_result"
    }
   ],
   "source": [
    "#sort based on sentiment value\n",
    "data.sort_values(by='sentiment_value').head(10)"
   ]
  },
  {
   "cell_type": "code",
   "execution_count": 18,
   "metadata": {
    "ExecuteTime": {
     "end_time": "2022-02-20T17:29:49.769826Z",
     "start_time": "2022-02-20T17:29:49.634614Z"
    }
   },
   "outputs": [
    {
     "data": {
      "text/plain": [
       "count    10000.000000\n",
       "mean         3.548900\n",
       "std          6.215776\n",
       "min        -26.000000\n",
       "25%          0.000000\n",
       "50%          3.000000\n",
       "75%          7.000000\n",
       "max         47.000000\n",
       "Name: sentiment_value, dtype: float64"
      ]
     },
     "execution_count": 18,
     "metadata": {},
     "output_type": "execute_result"
    }
   ],
   "source": [
    "data['sentiment_value'].describe()"
   ]
  },
  {
   "cell_type": "code",
   "execution_count": 19,
   "metadata": {
    "ExecuteTime": {
     "end_time": "2022-02-20T17:29:49.959452Z",
     "start_time": "2022-02-20T17:29:49.782817Z"
    }
   },
   "outputs": [
    {
     "data": {
      "text/html": [
       "<div>\n",
       "<style scoped>\n",
       "    .dataframe tbody tr th:only-of-type {\n",
       "        vertical-align: middle;\n",
       "    }\n",
       "\n",
       "    .dataframe tbody tr th {\n",
       "        vertical-align: top;\n",
       "    }\n",
       "\n",
       "    .dataframe thead th {\n",
       "        text-align: right;\n",
       "    }\n",
       "</style>\n",
       "<table border=\"1\" class=\"dataframe\">\n",
       "  <thead>\n",
       "    <tr style=\"text-align: right;\">\n",
       "      <th></th>\n",
       "      <th>label</th>\n",
       "      <th>review</th>\n",
       "      <th>sentiment_value</th>\n",
       "      <th>word_count</th>\n",
       "    </tr>\n",
       "  </thead>\n",
       "  <tbody>\n",
       "    <tr>\n",
       "      <td>6</td>\n",
       "      <td>neg</td>\n",
       "      <td>buyer bewar thi selfpublish book want know why...</td>\n",
       "      <td>-4</td>\n",
       "      <td>85</td>\n",
       "    </tr>\n",
       "    <tr>\n",
       "      <td>10</td>\n",
       "      <td>neg</td>\n",
       "      <td>the worst a complet wast time typograph error ...</td>\n",
       "      <td>-12</td>\n",
       "      <td>24</td>\n",
       "    </tr>\n",
       "    <tr>\n",
       "      <td>14</td>\n",
       "      <td>neg</td>\n",
       "      <td>aw beyond belief i feel i write keep other was...</td>\n",
       "      <td>-4</td>\n",
       "      <td>73</td>\n",
       "    </tr>\n",
       "    <tr>\n",
       "      <td>15</td>\n",
       "      <td>neg</td>\n",
       "      <td>dont tri fool us fake review it glaringli obvi...</td>\n",
       "      <td>-7</td>\n",
       "      <td>29</td>\n",
       "    </tr>\n",
       "    <tr>\n",
       "      <td>25</td>\n",
       "      <td>neg</td>\n",
       "      <td>problem charg smaller aaa i charger two year i...</td>\n",
       "      <td>-5</td>\n",
       "      <td>71</td>\n",
       "    </tr>\n",
       "    <tr>\n",
       "      <td>...</td>\n",
       "      <td>...</td>\n",
       "      <td>...</td>\n",
       "      <td>...</td>\n",
       "      <td>...</td>\n",
       "    </tr>\n",
       "    <tr>\n",
       "      <td>9974</td>\n",
       "      <td>neg</td>\n",
       "      <td>dummi scare bejesu out me oh god i rememb see ...</td>\n",
       "      <td>-4</td>\n",
       "      <td>74</td>\n",
       "    </tr>\n",
       "    <tr>\n",
       "      <td>9977</td>\n",
       "      <td>pos</td>\n",
       "      <td>magic ad were scari though movi frighten enoug...</td>\n",
       "      <td>-1</td>\n",
       "      <td>78</td>\n",
       "    </tr>\n",
       "    <tr>\n",
       "      <td>9988</td>\n",
       "      <td>pos</td>\n",
       "      <td>frighten movi superb act sir hopkin my recolle...</td>\n",
       "      <td>-4</td>\n",
       "      <td>86</td>\n",
       "    </tr>\n",
       "    <tr>\n",
       "      <td>9990</td>\n",
       "      <td>pos</td>\n",
       "      <td>psycholog thriller thi movi realli scare came ...</td>\n",
       "      <td>-2</td>\n",
       "      <td>21</td>\n",
       "    </tr>\n",
       "    <tr>\n",
       "      <td>9993</td>\n",
       "      <td>neg</td>\n",
       "      <td>maul kill bear enrich himself jim cole ticket ...</td>\n",
       "      <td>-4</td>\n",
       "      <td>70</td>\n",
       "    </tr>\n",
       "  </tbody>\n",
       "</table>\n",
       "<p>2334 rows × 4 columns</p>\n",
       "</div>"
      ],
      "text/plain": [
       "     label                                             review  \\\n",
       "6      neg  buyer bewar thi selfpublish book want know why...   \n",
       "10     neg  the worst a complet wast time typograph error ...   \n",
       "14     neg  aw beyond belief i feel i write keep other was...   \n",
       "15     neg  dont tri fool us fake review it glaringli obvi...   \n",
       "25     neg  problem charg smaller aaa i charger two year i...   \n",
       "...    ...                                                ...   \n",
       "9974   neg  dummi scare bejesu out me oh god i rememb see ...   \n",
       "9977   pos  magic ad were scari though movi frighten enoug...   \n",
       "9988   pos  frighten movi superb act sir hopkin my recolle...   \n",
       "9990   pos  psycholog thriller thi movi realli scare came ...   \n",
       "9993   neg  maul kill bear enrich himself jim cole ticket ...   \n",
       "\n",
       "      sentiment_value  word_count  \n",
       "6                  -4          85  \n",
       "10                -12          24  \n",
       "14                 -4          73  \n",
       "15                 -7          29  \n",
       "25                 -5          71  \n",
       "...               ...         ...  \n",
       "9974               -4          74  \n",
       "9977               -1          78  \n",
       "9988               -4          86  \n",
       "9990               -2          21  \n",
       "9993               -4          70  \n",
       "\n",
       "[2334 rows x 4 columns]"
      ]
     },
     "execution_count": 19,
     "metadata": {},
     "output_type": "execute_result"
    }
   ],
   "source": [
    "#sentiment value less than or equal to 0\n",
    "data[data['sentiment_value']<0]"
   ]
  },
  {
   "cell_type": "code",
   "execution_count": 20,
   "metadata": {
    "ExecuteTime": {
     "end_time": "2022-02-20T17:29:50.067748Z",
     "start_time": "2022-02-20T17:29:49.965448Z"
    }
   },
   "outputs": [
    {
     "data": {
      "text/html": [
       "<div>\n",
       "<style scoped>\n",
       "    .dataframe tbody tr th:only-of-type {\n",
       "        vertical-align: middle;\n",
       "    }\n",
       "\n",
       "    .dataframe tbody tr th {\n",
       "        vertical-align: top;\n",
       "    }\n",
       "\n",
       "    .dataframe thead th {\n",
       "        text-align: right;\n",
       "    }\n",
       "</style>\n",
       "<table border=\"1\" class=\"dataframe\">\n",
       "  <thead>\n",
       "    <tr style=\"text-align: right;\">\n",
       "      <th></th>\n",
       "      <th>label</th>\n",
       "      <th>review</th>\n",
       "      <th>sentiment_value</th>\n",
       "      <th>word_count</th>\n",
       "    </tr>\n",
       "  </thead>\n",
       "  <tbody>\n",
       "    <tr>\n",
       "      <td>0</td>\n",
       "      <td>pos</td>\n",
       "      <td>stune even nongam thi sound track beauti it pa...</td>\n",
       "      <td>5</td>\n",
       "      <td>51</td>\n",
       "    </tr>\n",
       "    <tr>\n",
       "      <td>1</td>\n",
       "      <td>pos</td>\n",
       "      <td>the best soundtrack ever anyth im read lot rev...</td>\n",
       "      <td>8</td>\n",
       "      <td>55</td>\n",
       "    </tr>\n",
       "    <tr>\n",
       "      <td>2</td>\n",
       "      <td>pos</td>\n",
       "      <td>amaz thi soundtrack favorit music time hand do...</td>\n",
       "      <td>9</td>\n",
       "      <td>80</td>\n",
       "    </tr>\n",
       "    <tr>\n",
       "      <td>3</td>\n",
       "      <td>pos</td>\n",
       "      <td>excel soundtrack i truli like soundtrack i enj...</td>\n",
       "      <td>9</td>\n",
       "      <td>83</td>\n",
       "    </tr>\n",
       "    <tr>\n",
       "      <td>4</td>\n",
       "      <td>pos</td>\n",
       "      <td>rememb pull your jaw off the floor after hear ...</td>\n",
       "      <td>12</td>\n",
       "      <td>59</td>\n",
       "    </tr>\n",
       "    <tr>\n",
       "      <td>...</td>\n",
       "      <td>...</td>\n",
       "      <td>...</td>\n",
       "      <td>...</td>\n",
       "      <td>...</td>\n",
       "    </tr>\n",
       "    <tr>\n",
       "      <td>9994</td>\n",
       "      <td>neg</td>\n",
       "      <td>sorri jim as former realtor mr cole owe natur ...</td>\n",
       "      <td>5</td>\n",
       "      <td>58</td>\n",
       "    </tr>\n",
       "    <tr>\n",
       "      <td>9995</td>\n",
       "      <td>pos</td>\n",
       "      <td>a revel life small town america earli 1900 tho...</td>\n",
       "      <td>10</td>\n",
       "      <td>86</td>\n",
       "    </tr>\n",
       "    <tr>\n",
       "      <td>9996</td>\n",
       "      <td>pos</td>\n",
       "      <td>great biographi interest journalist thi biogra...</td>\n",
       "      <td>8</td>\n",
       "      <td>80</td>\n",
       "    </tr>\n",
       "    <tr>\n",
       "      <td>9997</td>\n",
       "      <td>neg</td>\n",
       "      <td>interest subject poor present youd hardpress t...</td>\n",
       "      <td>7</td>\n",
       "      <td>68</td>\n",
       "    </tr>\n",
       "    <tr>\n",
       "      <td>9999</td>\n",
       "      <td>pos</td>\n",
       "      <td>beauti pen fast deliveri the pen ship promptli...</td>\n",
       "      <td>12</td>\n",
       "      <td>57</td>\n",
       "    </tr>\n",
       "  </tbody>\n",
       "</table>\n",
       "<p>6784 rows × 4 columns</p>\n",
       "</div>"
      ],
      "text/plain": [
       "     label                                             review  \\\n",
       "0      pos  stune even nongam thi sound track beauti it pa...   \n",
       "1      pos  the best soundtrack ever anyth im read lot rev...   \n",
       "2      pos  amaz thi soundtrack favorit music time hand do...   \n",
       "3      pos  excel soundtrack i truli like soundtrack i enj...   \n",
       "4      pos  rememb pull your jaw off the floor after hear ...   \n",
       "...    ...                                                ...   \n",
       "9994   neg  sorri jim as former realtor mr cole owe natur ...   \n",
       "9995   pos  a revel life small town america earli 1900 tho...   \n",
       "9996   pos  great biographi interest journalist thi biogra...   \n",
       "9997   neg  interest subject poor present youd hardpress t...   \n",
       "9999   pos  beauti pen fast deliveri the pen ship promptli...   \n",
       "\n",
       "      sentiment_value  word_count  \n",
       "0                   5          51  \n",
       "1                   8          55  \n",
       "2                   9          80  \n",
       "3                   9          83  \n",
       "4                  12          59  \n",
       "...               ...         ...  \n",
       "9994                5          58  \n",
       "9995               10          86  \n",
       "9996                8          80  \n",
       "9997                7          68  \n",
       "9999               12          57  \n",
       "\n",
       "[6784 rows x 4 columns]"
      ]
     },
     "execution_count": 20,
     "metadata": {},
     "output_type": "execute_result"
    }
   ],
   "source": [
    "#sentiment value greater than 0\n",
    "data[data['sentiment_value']>0]"
   ]
  },
  {
   "cell_type": "code",
   "execution_count": 21,
   "metadata": {
    "ExecuteTime": {
     "end_time": "2022-02-20T17:29:50.209199Z",
     "start_time": "2022-02-20T17:29:50.072744Z"
    }
   },
   "outputs": [
    {
     "data": {
      "text/html": [
       "<div>\n",
       "<style scoped>\n",
       "    .dataframe tbody tr th:only-of-type {\n",
       "        vertical-align: middle;\n",
       "    }\n",
       "\n",
       "    .dataframe tbody tr th {\n",
       "        vertical-align: top;\n",
       "    }\n",
       "\n",
       "    .dataframe thead th {\n",
       "        text-align: right;\n",
       "    }\n",
       "</style>\n",
       "<table border=\"1\" class=\"dataframe\">\n",
       "  <thead>\n",
       "    <tr style=\"text-align: right;\">\n",
       "      <th></th>\n",
       "      <th>label</th>\n",
       "      <th>review</th>\n",
       "      <th>sentiment_value</th>\n",
       "      <th>word_count</th>\n",
       "    </tr>\n",
       "  </thead>\n",
       "  <tbody>\n",
       "    <tr>\n",
       "      <td>19</td>\n",
       "      <td>neg</td>\n",
       "      <td>size recomend size chart real size much smalle...</td>\n",
       "      <td>0</td>\n",
       "      <td>24</td>\n",
       "    </tr>\n",
       "    <tr>\n",
       "      <td>34</td>\n",
       "      <td>neg</td>\n",
       "      <td>noth alreadi know if even casual look appli la...</td>\n",
       "      <td>0</td>\n",
       "      <td>17</td>\n",
       "    </tr>\n",
       "    <tr>\n",
       "      <td>38</td>\n",
       "      <td>neg</td>\n",
       "      <td>doesnt work mac it clearli say line work mac o...</td>\n",
       "      <td>0</td>\n",
       "      <td>20</td>\n",
       "    </tr>\n",
       "    <tr>\n",
       "      <td>49</td>\n",
       "      <td>neg</td>\n",
       "      <td>bewar thi tv set capabl recal function if want...</td>\n",
       "      <td>0</td>\n",
       "      <td>50</td>\n",
       "    </tr>\n",
       "    <tr>\n",
       "      <td>56</td>\n",
       "      <td>pos</td>\n",
       "      <td>from the label from memphi tn come the reatard...</td>\n",
       "      <td>0</td>\n",
       "      <td>48</td>\n",
       "    </tr>\n",
       "    <tr>\n",
       "      <td>...</td>\n",
       "      <td>...</td>\n",
       "      <td>...</td>\n",
       "      <td>...</td>\n",
       "      <td>...</td>\n",
       "    </tr>\n",
       "    <tr>\n",
       "      <td>9968</td>\n",
       "      <td>pos</td>\n",
       "      <td>book purchas product excel shape indicatedi re...</td>\n",
       "      <td>0</td>\n",
       "      <td>14</td>\n",
       "    </tr>\n",
       "    <tr>\n",
       "      <td>9971</td>\n",
       "      <td>neg</td>\n",
       "      <td>happi wast money 2 music experi 3dimension sou...</td>\n",
       "      <td>0</td>\n",
       "      <td>28</td>\n",
       "    </tr>\n",
       "    <tr>\n",
       "      <td>9983</td>\n",
       "      <td>pos</td>\n",
       "      <td>earli hopkin stori still send chill viewer mag...</td>\n",
       "      <td>0</td>\n",
       "      <td>43</td>\n",
       "    </tr>\n",
       "    <tr>\n",
       "      <td>9984</td>\n",
       "      <td>neg</td>\n",
       "      <td>the onli dummi is the writer magic pose questi...</td>\n",
       "      <td>0</td>\n",
       "      <td>76</td>\n",
       "    </tr>\n",
       "    <tr>\n",
       "      <td>9998</td>\n",
       "      <td>neg</td>\n",
       "      <td>dont buy the box look use obvious new i tri co...</td>\n",
       "      <td>0</td>\n",
       "      <td>16</td>\n",
       "    </tr>\n",
       "  </tbody>\n",
       "</table>\n",
       "<p>882 rows × 4 columns</p>\n",
       "</div>"
      ],
      "text/plain": [
       "     label                                             review  \\\n",
       "19     neg  size recomend size chart real size much smalle...   \n",
       "34     neg  noth alreadi know if even casual look appli la...   \n",
       "38     neg  doesnt work mac it clearli say line work mac o...   \n",
       "49     neg  bewar thi tv set capabl recal function if want...   \n",
       "56     pos  from the label from memphi tn come the reatard...   \n",
       "...    ...                                                ...   \n",
       "9968   pos  book purchas product excel shape indicatedi re...   \n",
       "9971   neg  happi wast money 2 music experi 3dimension sou...   \n",
       "9983   pos  earli hopkin stori still send chill viewer mag...   \n",
       "9984   neg  the onli dummi is the writer magic pose questi...   \n",
       "9998   neg  dont buy the box look use obvious new i tri co...   \n",
       "\n",
       "      sentiment_value  word_count  \n",
       "19                  0          24  \n",
       "34                  0          17  \n",
       "38                  0          20  \n",
       "49                  0          50  \n",
       "56                  0          48  \n",
       "...               ...         ...  \n",
       "9968                0          14  \n",
       "9971                0          28  \n",
       "9983                0          43  \n",
       "9984                0          76  \n",
       "9998                0          16  \n",
       "\n",
       "[882 rows x 4 columns]"
      ]
     },
     "execution_count": 21,
     "metadata": {},
     "output_type": "execute_result"
    }
   ],
   "source": [
    "#sentiment value equal to 0\n",
    "data[data['sentiment_value']==0]"
   ]
  },
  {
   "cell_type": "code",
   "execution_count": 22,
   "metadata": {
    "ExecuteTime": {
     "end_time": "2022-02-20T17:29:50.850544Z",
     "start_time": "2022-02-20T17:29:50.216195Z"
    }
   },
   "outputs": [
    {
     "data": {
      "text/plain": [
       "<matplotlib.axes._subplots.AxesSubplot at 0x1931aa18508>"
      ]
     },
     "execution_count": 22,
     "metadata": {},
     "output_type": "execute_result"
    },
    {
     "data": {
      "image/png": "[encoded data removed]",
      "text/plain": [
       "<Figure size 432x288 with 1 Axes>"
      ]
     },
     "metadata": {
      "needs_background": "light"
     },
     "output_type": "display_data"
    }
   ],
   "source": [
    "#density plot based on sentiment value\n",
    "\n",
    "sns.distplot(data['sentiment_value'])"
   ]
  },
  {
   "cell_type": "code",
   "execution_count": 23,
   "metadata": {
    "ExecuteTime": {
     "end_time": "2022-02-20T17:29:50.896516Z",
     "start_time": "2022-02-20T17:29:50.869535Z"
    }
   },
   "outputs": [],
   "source": [
    "# Creating an index column\n",
    "data['index']=range(0,len(data))"
   ]
  },
  {
   "cell_type": "code",
   "execution_count": 24,
   "metadata": {
    "ExecuteTime": {
     "end_time": "2022-02-20T17:29:54.275235Z",
     "start_time": "2022-02-20T17:29:50.906509Z"
    }
   },
   "outputs": [
    {
     "data": {
      "text/plain": [
       "<matplotlib.axes._subplots.AxesSubplot at 0x1931c8ca8c8>"
      ]
     },
     "execution_count": 24,
     "metadata": {},
     "output_type": "execute_result"
    },
    {
     "data": {
      "image/png": "[encoded data removed]",
      "text/plain": [
       "<Figure size 1080x720 with 1 Axes>"
      ]
     },
     "metadata": {
      "needs_background": "light"
     },
     "output_type": "display_data"
    }
   ],
   "source": [
    "#lineplot based on sentiment value\n",
    "plt.figure(figsize=(15, 10))\n",
    "sns.lineplot(y='sentiment_value',x = 'index',data=data)"
   ]
  },
  {
   "cell_type": "code",
   "execution_count": 25,
   "metadata": {
    "ExecuteTime": {
     "end_time": "2022-02-20T17:29:54.897282Z",
     "start_time": "2022-02-20T17:29:54.280234Z"
    }
   },
   "outputs": [
    {
     "data": {
      "text/plain": [
       "<matplotlib.axes._subplots.AxesSubplot at 0x1931abbab08>"
      ]
     },
     "execution_count": 25,
     "metadata": {},
     "output_type": "execute_result"
    },
    {
     "data": {
      "image/png": "[encoded data removed]",
      "text/plain": [
       "<Figure size 576x576 with 1 Axes>"
      ]
     },
     "metadata": {
      "needs_background": "light"
     },
     "output_type": "display_data"
    }
   ],
   "source": [
    "#scatter plot between wordcount and sentiment value\n",
    "data.plot.scatter(x='word_count', y='sentiment_value', figsize=(8,8), title='Text sentiment value to text word count')"
   ]
  },
  {
   "cell_type": "markdown",
   "metadata": {
    "ExecuteTime": {
     "end_time": "2022-02-19T20:17:09.920334Z",
     "start_time": "2022-02-19T20:17:09.912334Z"
    }
   },
   "source": [
    "### After performing the sentiment analysis, most of the reviews are neutral and there are more no of positive reviews than the negative reviews.\n"
   ]
  },
  {
   "cell_type": "code",
   "execution_count": null,
   "metadata": {},
   "outputs": [],
   "source": []
  }
 ],
 "metadata": {
  "kernelspec": {
   "display_name": "Python 3",
   "language": "python",
   "name": "python3"
  },
  "language_info": {
   "codemirror_mode": {
    "name": "ipython",
    "version": 3
   },
   "file_extension": ".py",
   "mimetype": "text/x-python",
   "name": "python",
   "nbconvert_exporter": "python",
   "pygments_lexer": "ipython3",
   "version": "3.7.4"
  },
  "varInspector": {
   "cols": {
    "lenName": 16,
    "lenType": 16,
    "lenVar": 40
   },
   "kernels_config": {
    "python": {
     "delete_cmd_postfix": "",
     "delete_cmd_prefix": "del ",
     "library": "var_list.py",
     "varRefreshCmd": "print(var_dic_list())"
    },
    "r": {
     "delete_cmd_postfix": ") ",
     "delete_cmd_prefix": "rm(",
     "library": "var_list.r",
     "varRefreshCmd": "cat(var_dic_list()) "
    }
   },
   "types_to_exclude": [
    "module",
    "function",
    "builtin_function_or_method",
    "instance",
    "_Feature"
   ],
   "window_display": false
  }
 },
 "nbformat": 4,
 "nbformat_minor": 2
}
